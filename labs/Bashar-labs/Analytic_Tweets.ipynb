{
  "nbformat": 4,
  "nbformat_minor": 0,
  "metadata": {
    "colab": {
      "name": "Analytic Tweets.ipynb",
      "provenance": [],
      "collapsed_sections": []
    },
    "kernelspec": {
      "display_name": "Python 3",
      "name": "python3"
    }
  },
  "cells": [
    {
      "cell_type": "code",
      "metadata": {
        "id": "Ww7RVkMrj5pY"
      },
      "source": [
        "from datetime import datetime\r\n",
        "from google.colab import files\r\n",
        "from datetime import datetime\r\n",
        "from google.colab import drive\r\n",
        "import pandas as pd\r\n",
        "import time\r\n",
        "import json\r\n",
        "import pickle\r\n",
        "import glob\r\n",
        "import os\r\n"
      ],
      "execution_count": null,
      "outputs": []
    },
    {
      "cell_type": "code",
      "metadata": {
        "colab": {
          "base_uri": "https://localhost:8080/"
        },
        "id": "T82xmz39kv97",
        "outputId": "9abf43f2-bbb9-4822-c7b6-0df5415dfe0f"
      },
      "source": [
        "drive.mount('/content/drive')"
      ],
      "execution_count": null,
      "outputs": [
        {
          "output_type": "stream",
          "text": [
            "Drive already mounted at /content/drive; to attempt to forcibly remount, call drive.mount(\"/content/drive\", force_remount=True).\n"
          ],
          "name": "stdout"
        }
      ]
    },
    {
      "cell_type": "code",
      "metadata": {
        "id": "qPaa4Qpsqfnj"
      },
      "source": [
        "df = pd.read_csv('/content/drive/MyDrive/tweetsDataset/tweets.csv',sep=',',names=['ID','Tweet','Class']) "
      ],
      "execution_count": null,
      "outputs": []
    },
    {
      "cell_type": "code",
      "metadata": {
        "colab": {
          "base_uri": "https://localhost:8080/",
          "height": 669
        },
        "id": "LCxQdFgp-_he",
        "outputId": "67c4492c-1ac2-4f66-f972-ea03f0951772"
      },
      "source": [
        "df.sample(20)"
      ],
      "execution_count": null,
      "outputs": [
        {
          "output_type": "execute_result",
          "data": {
            "text/html": [
              "<div>\n",
              "<style scoped>\n",
              "    .dataframe tbody tr th:only-of-type {\n",
              "        vertical-align: middle;\n",
              "    }\n",
              "\n",
              "    .dataframe tbody tr th {\n",
              "        vertical-align: top;\n",
              "    }\n",
              "\n",
              "    .dataframe thead th {\n",
              "        text-align: right;\n",
              "    }\n",
              "</style>\n",
              "<table border=\"1\" class=\"dataframe\">\n",
              "  <thead>\n",
              "    <tr style=\"text-align: right;\">\n",
              "      <th></th>\n",
              "      <th>ID</th>\n",
              "      <th>Tweet</th>\n",
              "      <th>Class</th>\n",
              "    </tr>\n",
              "  </thead>\n",
              "  <tbody>\n",
              "    <tr>\n",
              "      <th>49872</th>\n",
              "      <td>473964446344179713</td>\n",
              "      <td>مبروك لينا  مبروك لكل المصريين انا سعيد اووووو...</td>\n",
              "      <td>happiness</td>\n",
              "    </tr>\n",
              "    <tr>\n",
              "      <th>858</th>\n",
              "      <td>516191772092166144</td>\n",
              "      <td>طيب ضيفيني احسنلك لو سمحتي عشان انا عصبي ؟؟ — ...</td>\n",
              "      <td>anger</td>\n",
              "    </tr>\n",
              "    <tr>\n",
              "      <th>41352</th>\n",
              "      <td>697046399142268928</td>\n",
              "      <td>@UsamaSim انا مبسوط انهم بيضيعوا اعمارهم ف الب...</td>\n",
              "      <td>happiness</td>\n",
              "    </tr>\n",
              "    <tr>\n",
              "      <th>53656</th>\n",
              "      <td>266263753606176768</td>\n",
              "      <td>شعورك انك في قمة الرضا عن كل ما يحيط بك فقط لا...</td>\n",
              "      <td>happiness</td>\n",
              "    </tr>\n",
              "    <tr>\n",
              "      <th>55095</th>\n",
              "      <td>397824975790698497</td>\n",
              "      <td>فيه ناس لما يكلمونك ودك تقول \\n      لهم معليش...</td>\n",
              "      <td>happiness</td>\n",
              "    </tr>\n",
              "    <tr>\n",
              "      <th>85750</th>\n",
              "      <td>873366535334756352</td>\n",
              "      <td>@galalroushdy @KajoTm ما انا متأكد من كده 😂😂😂</td>\n",
              "      <td>trust</td>\n",
              "    </tr>\n",
              "    <tr>\n",
              "      <th>69344</th>\n",
              "      <td>569264217439768576</td>\n",
              "      <td>@koghee @i_hazz_ هو ليه كل الناس بتقولي يا \" ك...</td>\n",
              "      <td>sadness</td>\n",
              "    </tr>\n",
              "    <tr>\n",
              "      <th>79482</th>\n",
              "      <td>895715834798252032</td>\n",
              "      <td>@3enaweta @N0110__ @BandarBRashid انا مستغرب ي...</td>\n",
              "      <td>surprise</td>\n",
              "    </tr>\n",
              "    <tr>\n",
              "      <th>91902</th>\n",
              "      <td>599648500054261760</td>\n",
              "      <td>@abody_11 اذا كحيلان فعلا ناوي ع الاسيويه مارا...</td>\n",
              "      <td>trust</td>\n",
              "    </tr>\n",
              "    <tr>\n",
              "      <th>73679</th>\n",
              "      <td>512173595963817984</td>\n",
              "      <td>اتصدقون عاد انا مستغرب اشوف حسابات عدد المتابع...</td>\n",
              "      <td>surprise</td>\n",
              "    </tr>\n",
              "    <tr>\n",
              "      <th>23484</th>\n",
              "      <td>721832344668254209</td>\n",
              "      <td>RT @alhanoufj__: انا خايف لقى ثاني🎧💕 https://t...</td>\n",
              "      <td>fear</td>\n",
              "    </tr>\n",
              "    <tr>\n",
              "      <th>24872</th>\n",
              "      <td>629691151080030208</td>\n",
              "      <td>وللان ماندري عن مصير مورا والسوبر على الابواب ...</td>\n",
              "      <td>fear</td>\n",
              "    </tr>\n",
              "    <tr>\n",
              "      <th>16481</th>\n",
              "      <td>825711696631230464</td>\n",
              "      <td>لو فتحى لعب نصف ملعب والمحمدي لعب باك يمين انا...</td>\n",
              "      <td>fear</td>\n",
              "    </tr>\n",
              "    <tr>\n",
              "      <th>90333</th>\n",
              "      <td>877844231280365568</td>\n",
              "      <td>@H_swilhy لاتحكم ع ياسر انا متاكد راح نستفيد م...</td>\n",
              "      <td>trust</td>\n",
              "    </tr>\n",
              "    <tr>\n",
              "      <th>19470</th>\n",
              "      <td>810464453603065856</td>\n",
              "      <td>ما اخاف البعد انا خايف عليك \\nوين تلقى لي ب ها...</td>\n",
              "      <td>fear</td>\n",
              "    </tr>\n",
              "    <tr>\n",
              "      <th>82228</th>\n",
              "      <td>880375234960003072</td>\n",
              "      <td>ادارة #الهلال واقعه في ازمة البطولة العربيه وك...</td>\n",
              "      <td>trust</td>\n",
              "    </tr>\n",
              "    <tr>\n",
              "      <th>13591</th>\n",
              "      <td>875438624560615426</td>\n",
              "      <td>#سحبه_دوناروما_علي_ميلان\\nانا اتوقع بيجدد او ب...</td>\n",
              "      <td>anticipation</td>\n",
              "    </tr>\n",
              "    <tr>\n",
              "      <th>21572</th>\n",
              "      <td>546050813098209280</td>\n",
              "      <td>@7agog والله العظيم انا خايف جدا بعد انتهاء مد...</td>\n",
              "      <td>fear</td>\n",
              "    </tr>\n",
              "    <tr>\n",
              "      <th>89355</th>\n",
              "      <td>29719</td>\n",
              "      <td>Trying to get time to update the hotspots</td>\n",
              "      <td>trust</td>\n",
              "    </tr>\n",
              "    <tr>\n",
              "      <th>14028</th>\n",
              "      <td>379046032715567105</td>\n",
              "      <td>اوك عرفنا ان الناموسة تبي دم .. طيب الذبانة وش...</td>\n",
              "      <td>anticipation</td>\n",
              "    </tr>\n",
              "  </tbody>\n",
              "</table>\n",
              "</div>"
            ],
            "text/plain": [
              "                       ID  ...         Class\n",
              "49872  473964446344179713  ...     happiness\n",
              "858    516191772092166144  ...         anger\n",
              "41352  697046399142268928  ...     happiness\n",
              "53656  266263753606176768  ...     happiness\n",
              "55095  397824975790698497  ...     happiness\n",
              "85750  873366535334756352  ...         trust\n",
              "69344  569264217439768576  ...       sadness\n",
              "79482  895715834798252032  ...      surprise\n",
              "91902  599648500054261760  ...         trust\n",
              "73679  512173595963817984  ...      surprise\n",
              "23484  721832344668254209  ...          fear\n",
              "24872  629691151080030208  ...          fear\n",
              "16481  825711696631230464  ...          fear\n",
              "90333  877844231280365568  ...         trust\n",
              "19470  810464453603065856  ...          fear\n",
              "82228  880375234960003072  ...         trust\n",
              "13591  875438624560615426  ...  anticipation\n",
              "21572  546050813098209280  ...          fear\n",
              "89355               29719  ...         trust\n",
              "14028  379046032715567105  ...  anticipation\n",
              "\n",
              "[20 rows x 3 columns]"
            ]
          },
          "metadata": {
            "tags": []
          },
          "execution_count": 133
        }
      ]
    },
    {
      "cell_type": "code",
      "metadata": {
        "id": "v995Ex6pF6jO",
        "colab": {
          "base_uri": "https://localhost:8080/",
          "height": 297
        },
        "outputId": "0473cec2-c7d8-4459-a0cc-bcf3578c6c81"
      },
      "source": [
        "df.describe()"
      ],
      "execution_count": null,
      "outputs": [
        {
          "output_type": "execute_result",
          "data": {
            "text/html": [
              "<div>\n",
              "<style scoped>\n",
              "    .dataframe tbody tr th:only-of-type {\n",
              "        vertical-align: middle;\n",
              "    }\n",
              "\n",
              "    .dataframe tbody tr th {\n",
              "        vertical-align: top;\n",
              "    }\n",
              "\n",
              "    .dataframe thead th {\n",
              "        text-align: right;\n",
              "    }\n",
              "</style>\n",
              "<table border=\"1\" class=\"dataframe\">\n",
              "  <thead>\n",
              "    <tr style=\"text-align: right;\">\n",
              "      <th></th>\n",
              "      <th>ID</th>\n",
              "    </tr>\n",
              "  </thead>\n",
              "  <tbody>\n",
              "    <tr>\n",
              "      <th>count</th>\n",
              "      <td>9.483200e+04</td>\n",
              "    </tr>\n",
              "    <tr>\n",
              "      <th>mean</th>\n",
              "      <td>5.528763e+17</td>\n",
              "    </tr>\n",
              "    <tr>\n",
              "      <th>std</th>\n",
              "      <td>2.865876e+17</td>\n",
              "    </tr>\n",
              "    <tr>\n",
              "      <th>min</th>\n",
              "      <td>2.500000e+01</td>\n",
              "    </tr>\n",
              "    <tr>\n",
              "      <th>25%</th>\n",
              "      <td>4.130461e+17</td>\n",
              "    </tr>\n",
              "    <tr>\n",
              "      <th>50%</th>\n",
              "      <td>6.187995e+17</td>\n",
              "    </tr>\n",
              "    <tr>\n",
              "      <th>75%</th>\n",
              "      <td>7.782313e+17</td>\n",
              "    </tr>\n",
              "    <tr>\n",
              "      <th>max</th>\n",
              "      <td>8.957310e+17</td>\n",
              "    </tr>\n",
              "  </tbody>\n",
              "</table>\n",
              "</div>"
            ],
            "text/plain": [
              "                 ID\n",
              "count  9.483200e+04\n",
              "mean   5.528763e+17\n",
              "std    2.865876e+17\n",
              "min    2.500000e+01\n",
              "25%    4.130461e+17\n",
              "50%    6.187995e+17\n",
              "75%    7.782313e+17\n",
              "max    8.957310e+17"
            ]
          },
          "metadata": {
            "tags": []
          },
          "execution_count": 117
        }
      ]
    },
    {
      "cell_type": "code",
      "metadata": {
        "id": "x4nyzoTJVrh0",
        "colab": {
          "base_uri": "https://localhost:8080/"
        },
        "outputId": "d3ca30ca-6b3f-4bce-c645-db905821255c"
      },
      "source": [
        "print('Anger:',len(df[df[\"Class\"] == 'anger']))\r\n",
        "print('Trust:',len(df[df[\"Class\"] == 'trust']))\r\n",
        "print('Happiness:',len(df[df[\"Class\"] == 'happiness']))\r\n",
        "print('Sadness:',len(df[df[\"Class\"] == 'sadness']))\r\n",
        "print('Fear:',len(df[df[\"Class\"] == 'fear']))\r\n",
        "print('Anticipation:',len(df[df[\"Class\"] == 'anticipation']))\r\n",
        "print('Disgust:',len(df[df[\"Class\"] == 'disgust']))\r\n",
        "print('Surprise:',len(df[df[\"Class\"] == 'surprise']))\r\n"
      ],
      "execution_count": null,
      "outputs": [
        {
          "output_type": "stream",
          "text": [
            "Anger: 1651\n",
            "Trust: 14716\n",
            "Happiness: 27683\n",
            "Sadness: 14816\n",
            "Fear: 13920\n",
            "Anticipation: 13302\n",
            "Disgust: 1023\n",
            "Surprise: 7721\n"
          ],
          "name": "stdout"
        }
      ]
    },
    {
      "cell_type": "code",
      "metadata": {
        "id": "0EpxpGSv4OVT"
      },
      "source": [
        "  "
      ],
      "execution_count": null,
      "outputs": []
    }
  ]
}