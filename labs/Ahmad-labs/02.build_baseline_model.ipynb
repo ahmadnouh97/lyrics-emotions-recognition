{
 "cells": [
  {
   "cell_type": "code",
   "execution_count": 1,
   "metadata": {},
   "outputs": [],
   "source": [
    "import pandas as pd\n",
    "import re\n",
    "from pathlib import Path\n",
    "import pyarabic.araby as ar\n",
    "from tqdm.notebook import tqdm\n",
    "from sklearn.utils import shuffle"
   ]
  },
  {
   "cell_type": "code",
   "execution_count": 64,
   "metadata": {},
   "outputs": [],
   "source": [
    "class Config:\n",
    "    raw_data_file = 'tweets.csv'\n",
    "    processed_data_file = 'tweets.csv'\n",
    "    \n",
    "    RAW_DATA_PATH = Path('../../data/raw')\n",
    "    PROCESSED_DATA_PATH = Path('../../data/processed')\n",
    "    \n",
    "    RAW_DATA_FILE = RAW_DATA_PATH / raw_data_file\n",
    "    PROCESSED_DATA_FILE = PROCESSED_DATA_PATH / processed_data_file\n",
    "    \n",
    "    MODEL_PATH = Path('../../model/lyrics/model')\n",
    "    \n",
    "    PLOT_PATH = Path('../../plots')\n",
    "    PLOT_HEAT_MAP_FILE = PLOT_PATH / Path('heatmap.png')"
   ]
  },
  {
   "cell_type": "code",
   "execution_count": 3,
   "metadata": {},
   "outputs": [],
   "source": [
    "SEED = 42"
   ]
  },
  {
   "cell_type": "code",
   "execution_count": 4,
   "metadata": {},
   "outputs": [],
   "source": [
    "processed_data = pd.read_csv(Config.PROCESSED_DATA_FILE, index_col=False)"
   ]
  },
  {
   "cell_type": "code",
   "execution_count": 5,
   "metadata": {},
   "outputs": [
    {
     "data": {
      "text/html": [
       "<div>\n",
       "<style scoped>\n",
       "    .dataframe tbody tr th:only-of-type {\n",
       "        vertical-align: middle;\n",
       "    }\n",
       "\n",
       "    .dataframe tbody tr th {\n",
       "        vertical-align: top;\n",
       "    }\n",
       "\n",
       "    .dataframe thead th {\n",
       "        text-align: right;\n",
       "    }\n",
       "</style>\n",
       "<table border=\"1\" class=\"dataframe\">\n",
       "  <thead>\n",
       "    <tr style=\"text-align: right;\">\n",
       "      <th></th>\n",
       "      <th>ID</th>\n",
       "      <th>Tweet</th>\n",
       "      <th>Class</th>\n",
       "    </tr>\n",
       "  </thead>\n",
       "  <tbody>\n",
       "    <tr>\n",
       "      <th>0</th>\n",
       "      <td>295820374774513667</td>\n",
       "      <td>رودجرز انا مستاء من لاعبينا الشباب حولنا منحهم...</td>\n",
       "      <td>anger</td>\n",
       "    </tr>\n",
       "    <tr>\n",
       "      <th>1</th>\n",
       "      <td>353619287652581376</td>\n",
       "      <td>من شفت انا عيونه اعلنت انا جنوني</td>\n",
       "      <td>anger</td>\n",
       "    </tr>\n",
       "    <tr>\n",
       "      <th>2</th>\n",
       "      <td>888346524714979329</td>\n",
       "      <td>أتفق انا عصبي وقاسي وعنيد ومتناقض ومزاجي وكتوم...</td>\n",
       "      <td>anger</td>\n",
       "    </tr>\n",
       "    <tr>\n",
       "      <th>3</th>\n",
       "      <td>870974517983752193</td>\n",
       "      <td>على فكرة انا مستاء جدا من تجربتي في محلكم في ا...</td>\n",
       "      <td>anger</td>\n",
       "    </tr>\n",
       "    <tr>\n",
       "      <th>4</th>\n",
       "      <td>886636321342619653</td>\n",
       "      <td>ع قد ما انا عصبي ع قد ما ابسط كلمه حلوه هتنسين...</td>\n",
       "      <td>anger</td>\n",
       "    </tr>\n",
       "  </tbody>\n",
       "</table>\n",
       "</div>"
      ],
      "text/plain": [
       "                   ID                                              Tweet  \\\n",
       "0  295820374774513667  رودجرز انا مستاء من لاعبينا الشباب حولنا منحهم...   \n",
       "1  353619287652581376                   من شفت انا عيونه اعلنت انا جنوني   \n",
       "2  888346524714979329  أتفق انا عصبي وقاسي وعنيد ومتناقض ومزاجي وكتوم...   \n",
       "3  870974517983752193  على فكرة انا مستاء جدا من تجربتي في محلكم في ا...   \n",
       "4  886636321342619653  ع قد ما انا عصبي ع قد ما ابسط كلمه حلوه هتنسين...   \n",
       "\n",
       "   Class  \n",
       "0  anger  \n",
       "1  anger  \n",
       "2  anger  \n",
       "3  anger  \n",
       "4  anger  "
      ]
     },
     "execution_count": 5,
     "metadata": {},
     "output_type": "execute_result"
    }
   ],
   "source": [
    "processed_data.head()"
   ]
  },
  {
   "cell_type": "code",
   "execution_count": 6,
   "metadata": {},
   "outputs": [],
   "source": [
    "data = processed_data[processed_data['Class'].apply(lambda Class: Class in ['happiness', 'sadness', 'anger'])]\n",
    "data = shuffle(data)\n",
    "data.reset_index(drop=True, inplace=True)"
   ]
  },
  {
   "cell_type": "code",
   "execution_count": 7,
   "metadata": {},
   "outputs": [
    {
     "data": {
      "text/html": [
       "<div>\n",
       "<style scoped>\n",
       "    .dataframe tbody tr th:only-of-type {\n",
       "        vertical-align: middle;\n",
       "    }\n",
       "\n",
       "    .dataframe tbody tr th {\n",
       "        vertical-align: top;\n",
       "    }\n",
       "\n",
       "    .dataframe thead th {\n",
       "        text-align: right;\n",
       "    }\n",
       "</style>\n",
       "<table border=\"1\" class=\"dataframe\">\n",
       "  <thead>\n",
       "    <tr style=\"text-align: right;\">\n",
       "      <th></th>\n",
       "      <th>ID</th>\n",
       "      <th>Tweet</th>\n",
       "      <th>Class</th>\n",
       "    </tr>\n",
       "  </thead>\n",
       "  <tbody>\n",
       "    <tr>\n",
       "      <th>0</th>\n",
       "      <td>885478835881246720</td>\n",
       "      <td>انا مالا عرفت حيات او انا حزين</td>\n",
       "      <td>sadness</td>\n",
       "    </tr>\n",
       "    <tr>\n",
       "      <th>1</th>\n",
       "      <td>619998693043769344</td>\n",
       "      <td>إيفونا عبر الإنستجرام إلي القاهرة أنا سعيد للغاية</td>\n",
       "      <td>happiness</td>\n",
       "    </tr>\n",
       "    <tr>\n",
       "      <th>2</th>\n",
       "      <td>461191025126809600</td>\n",
       "      <td>فيه ناس لما يتكلمون معك ودك تقولهم معليش انا م...</td>\n",
       "      <td>happiness</td>\n",
       "    </tr>\n",
       "    <tr>\n",
       "      <th>3</th>\n",
       "      <td>547031715722444800</td>\n",
       "      <td>انا سعيد جدا انى حشوف القمر فى الصباح انت ب تن...</td>\n",
       "      <td>happiness</td>\n",
       "    </tr>\n",
       "    <tr>\n",
       "      <th>4</th>\n",
       "      <td>675891866555039745</td>\n",
       "      <td>يازين الاجازه وانت تشوف ناس رايحه للدوام وانت ...</td>\n",
       "      <td>happiness</td>\n",
       "    </tr>\n",
       "  </tbody>\n",
       "</table>\n",
       "</div>"
      ],
      "text/plain": [
       "                   ID                                              Tweet  \\\n",
       "0  885478835881246720                     انا مالا عرفت حيات او انا حزين   \n",
       "1  619998693043769344  إيفونا عبر الإنستجرام إلي القاهرة أنا سعيد للغاية   \n",
       "2  461191025126809600  فيه ناس لما يتكلمون معك ودك تقولهم معليش انا م...   \n",
       "3  547031715722444800  انا سعيد جدا انى حشوف القمر فى الصباح انت ب تن...   \n",
       "4  675891866555039745  يازين الاجازه وانت تشوف ناس رايحه للدوام وانت ...   \n",
       "\n",
       "       Class  \n",
       "0    sadness  \n",
       "1  happiness  \n",
       "2  happiness  \n",
       "3  happiness  \n",
       "4  happiness  "
      ]
     },
     "execution_count": 7,
     "metadata": {},
     "output_type": "execute_result"
    }
   ],
   "source": [
    "data.head()"
   ]
  },
  {
   "cell_type": "code",
   "execution_count": 8,
   "metadata": {},
   "outputs": [
    {
     "data": {
      "text/plain": [
       "happiness    22788\n",
       "sadness      12906\n",
       "anger         1154\n",
       "Name: Class, dtype: int64"
      ]
     },
     "execution_count": 8,
     "metadata": {},
     "output_type": "execute_result"
    }
   ],
   "source": [
    "data['Class'].value_counts()"
   ]
  },
  {
   "cell_type": "code",
   "execution_count": null,
   "metadata": {},
   "outputs": [],
   "source": []
  },
  {
   "cell_type": "code",
   "execution_count": 9,
   "metadata": {},
   "outputs": [],
   "source": [
    "import tensorflow as tf\n",
    "import tensorflow_addons as tfa"
   ]
  },
  {
   "cell_type": "code",
   "execution_count": 10,
   "metadata": {},
   "outputs": [],
   "source": [
    "from sklearn.model_selection import train_test_split\n",
    "import numpy as np"
   ]
  },
  {
   "cell_type": "code",
   "execution_count": 11,
   "metadata": {},
   "outputs": [],
   "source": [
    "X = np.array(list(data['Tweet'])).astype(str)\n",
    "y = np.array(list(data['Class'])).astype(str)"
   ]
  },
  {
   "cell_type": "code",
   "execution_count": 12,
   "metadata": {},
   "outputs": [
    {
     "data": {
      "text/plain": [
       "dtype('<U140')"
      ]
     },
     "execution_count": 12,
     "metadata": {},
     "output_type": "execute_result"
    }
   ],
   "source": [
    "X.dtype"
   ]
  },
  {
   "cell_type": "code",
   "execution_count": 13,
   "metadata": {},
   "outputs": [],
   "source": [
    "X_train, X_test, y_train, y_test = train_test_split(X, y, test_size=0.33, random_state=SEED)"
   ]
  },
  {
   "cell_type": "code",
   "execution_count": 14,
   "metadata": {},
   "outputs": [],
   "source": [
    "from sklearn.preprocessing import LabelEncoder"
   ]
  },
  {
   "cell_type": "code",
   "execution_count": 15,
   "metadata": {},
   "outputs": [],
   "source": [
    "label_encoder = LabelEncoder()"
   ]
  },
  {
   "cell_type": "code",
   "execution_count": 16,
   "metadata": {},
   "outputs": [
    {
     "data": {
      "text/plain": [
       "LabelEncoder()"
      ]
     },
     "execution_count": 16,
     "metadata": {},
     "output_type": "execute_result"
    }
   ],
   "source": [
    "label_encoder.fit(y_train)"
   ]
  },
  {
   "cell_type": "code",
   "execution_count": 17,
   "metadata": {},
   "outputs": [
    {
     "data": {
      "text/plain": [
       "array(['anger', 'happiness', 'sadness'], dtype='<U9')"
      ]
     },
     "execution_count": 17,
     "metadata": {},
     "output_type": "execute_result"
    }
   ],
   "source": [
    "label_encoder.classes_"
   ]
  },
  {
   "cell_type": "code",
   "execution_count": 18,
   "metadata": {},
   "outputs": [],
   "source": [
    "class_num = len(label_encoder.classes_)"
   ]
  },
  {
   "cell_type": "code",
   "execution_count": 19,
   "metadata": {},
   "outputs": [],
   "source": [
    "y_train = label_encoder.transform(y_train)\n",
    "y_test = label_encoder.transform(y_test)"
   ]
  },
  {
   "cell_type": "code",
   "execution_count": 20,
   "metadata": {},
   "outputs": [],
   "source": [
    "y_train = tf.keras.utils.to_categorical(y_train, class_num)\n",
    "y_test = tf.keras.utils.to_categorical(y_test, class_num)"
   ]
  },
  {
   "cell_type": "code",
   "execution_count": null,
   "metadata": {},
   "outputs": [],
   "source": []
  },
  {
   "cell_type": "code",
   "execution_count": 21,
   "metadata": {},
   "outputs": [],
   "source": [
    "VOCAB_SIZE = 10000"
   ]
  },
  {
   "cell_type": "code",
   "execution_count": 22,
   "metadata": {},
   "outputs": [],
   "source": [
    "encoder = tf.keras.layers.experimental.preprocessing.TextVectorization(\n",
    "    max_tokens=VOCAB_SIZE\n",
    ")"
   ]
  },
  {
   "cell_type": "code",
   "execution_count": 23,
   "metadata": {},
   "outputs": [],
   "source": [
    "encoder.adapt(X_train)"
   ]
  },
  {
   "cell_type": "code",
   "execution_count": 24,
   "metadata": {},
   "outputs": [],
   "source": [
    "vocab = np.array(encoder.get_vocabulary())"
   ]
  },
  {
   "cell_type": "code",
   "execution_count": 25,
   "metadata": {},
   "outputs": [
    {
     "data": {
      "text/plain": [
       "'انا'"
      ]
     },
     "execution_count": 25,
     "metadata": {},
     "output_type": "execute_result"
    }
   ],
   "source": [
    "vocab[0].decode('UTF-8')"
   ]
  },
  {
   "cell_type": "code",
   "execution_count": 26,
   "metadata": {},
   "outputs": [],
   "source": [
    "vocab = np.array(encoder.get_vocabulary())"
   ]
  },
  {
   "cell_type": "code",
   "execution_count": 27,
   "metadata": {},
   "outputs": [],
   "source": [
    "vocab_utf8 = [word.decode('UTF-8') for word in vocab]"
   ]
  },
  {
   "cell_type": "code",
   "execution_count": 28,
   "metadata": {},
   "outputs": [],
   "source": [
    "tf.keras.backend.clear_session()"
   ]
  },
  {
   "cell_type": "code",
   "execution_count": 29,
   "metadata": {},
   "outputs": [],
   "source": [
    "def create_model():\n",
    "    model = tf.keras.Sequential()\n",
    "    \n",
    "    model.add(encoder)\n",
    "    \n",
    "    model.add(\n",
    "        tf.keras.layers.Embedding(\n",
    "        input_dim=VOCAB_SIZE+1,\n",
    "        output_dim=64,\n",
    "        # Use masking to handle the variable sequence lengths\n",
    "        mask_zero=True)\n",
    "    )\n",
    "    \n",
    "    model.add(\n",
    "        tf.keras.layers.Bidirectional(tf.keras.layers.LSTM(64))\n",
    "    )\n",
    "    \n",
    "    model.add(\n",
    "        tf.keras.layers.Dense(64, activation='relu')\n",
    "    )\n",
    "    \n",
    "    model.add(\n",
    "        tf.keras.layers.Dense(class_num)\n",
    "    )\n",
    "    return model"
   ]
  },
  {
   "cell_type": "code",
   "execution_count": 30,
   "metadata": {},
   "outputs": [],
   "source": [
    "model = create_model()"
   ]
  },
  {
   "cell_type": "code",
   "execution_count": 31,
   "metadata": {},
   "outputs": [],
   "source": [
    "model.compile(\n",
    "    loss=tf.keras.losses.CategoricalCrossentropy(from_logits=True),\n",
    "    optimizer=tf.keras.optimizers.Adam(1e-4),\n",
    "    metrics=[tfa.metrics.F1Score(class_num)]\n",
    ")"
   ]
  },
  {
   "cell_type": "code",
   "execution_count": 32,
   "metadata": {},
   "outputs": [
    {
     "data": {
      "text/plain": [
       "(24688,)"
      ]
     },
     "execution_count": 32,
     "metadata": {},
     "output_type": "execute_result"
    }
   ],
   "source": [
    "X_train.shape"
   ]
  },
  {
   "cell_type": "code",
   "execution_count": 33,
   "metadata": {},
   "outputs": [
    {
     "data": {
      "text/plain": [
       "(24688, 3)"
      ]
     },
     "execution_count": 33,
     "metadata": {},
     "output_type": "execute_result"
    }
   ],
   "source": [
    "y_train.shape"
   ]
  },
  {
   "cell_type": "code",
   "execution_count": 34,
   "metadata": {},
   "outputs": [],
   "source": [
    "model_check_point_cb = tf.keras.callbacks.ModelCheckpoint(filepath=str(Config.MODEL_PATH),\n",
    "                                                   monitor='val_f1_score',\n",
    "                                                   save_weights_only=True)"
   ]
  },
  {
   "cell_type": "code",
   "execution_count": 35,
   "metadata": {},
   "outputs": [
    {
     "name": "stdout",
     "output_type": "stream",
     "text": [
      "Train on 19750 samples, validate on 4938 samples\n",
      "Epoch 1/10\n",
      "19750/19750 [==============================] - 33s 2ms/sample - loss: 0.5277 - f1_score: 0.5170 - val_loss: 0.1603 - val_f1_score: 0.6464\n",
      "Epoch 2/10\n",
      "19750/19750 [==============================] - 17s 857us/sample - loss: 0.1053 - f1_score: 0.6496 - val_loss: 0.0894 - val_f1_score: 0.6573\n",
      "Epoch 3/10\n",
      "19750/19750 [==============================] - 23s 1ms/sample - loss: 0.0516 - f1_score: 0.8813 - val_loss: 0.0601 - val_f1_score: 0.9111\n",
      "Epoch 4/10\n",
      "19750/19750 [==============================] - 17s 872us/sample - loss: 0.0261 - f1_score: 0.9789 - val_loss: 0.0547 - val_f1_score: 0.9366\n",
      "Epoch 5/10\n",
      "19750/19750 [==============================] - 17s 864us/sample - loss: 0.0140 - f1_score: 0.9930 - val_loss: 0.0702 - val_f1_score: 0.9378\n",
      "Epoch 6/10\n",
      "19750/19750 [==============================] - 24s 1ms/sample - loss: 0.0086 - f1_score: 0.9955 - val_loss: 0.0497 - val_f1_score: 0.9533\n",
      "Epoch 7/10\n",
      "19750/19750 [==============================] - 23s 1ms/sample - loss: 0.0046 - f1_score: 0.9976 - val_loss: 0.0453 - val_f1_score: 0.9699\n",
      "Epoch 8/10\n",
      "19750/19750 [==============================] - 23s 1ms/sample - loss: 0.0034 - f1_score: 0.9982 - val_loss: 0.0568 - val_f1_score: 0.9641\n",
      "Epoch 9/10\n",
      "19750/19750 [==============================] - 17s 840us/sample - loss: 0.0024 - f1_score: 0.9984 - val_loss: 0.0512 - val_f1_score: 0.9712\n",
      "Epoch 10/10\n",
      "19750/19750 [==============================] - 17s 857us/sample - loss: 0.0026 - f1_score: 0.9981 - val_loss: 0.0521 - val_f1_score: 0.9692\n"
     ]
    }
   ],
   "source": [
    "history = model.fit(X_train, y_train, epochs=10, batch_size=32, validation_split=0.2, callbacks=[model_check_point_cb])"
   ]
  },
  {
   "cell_type": "code",
   "execution_count": null,
   "metadata": {},
   "outputs": [],
   "source": []
  },
  {
   "cell_type": "code",
   "execution_count": 59,
   "metadata": {},
   "outputs": [],
   "source": [
    "from sklearn.metrics import classification_report\n",
    "import matplotlib.pyplot as plt\n",
    "import seaborn as sns\n",
    "%matplotlib inline"
   ]
  },
  {
   "cell_type": "code",
   "execution_count": null,
   "metadata": {},
   "outputs": [],
   "source": []
  },
  {
   "cell_type": "code",
   "execution_count": 67,
   "metadata": {},
   "outputs": [],
   "source": [
    "def evaluate():\n",
    "    Config.PLOT_PATH.mkdir(parents=True, exist_ok=True)\n",
    "    predictions = model.predict(X_test)\n",
    "    \n",
    "    y_pred = predictions.argmax(axis=1)\n",
    "    y_true = y_test.argmax(axis=1)\n",
    "    \n",
    "    report = classification_report(y_true, y_pred, output_dict=True)\n",
    "    df = pd.DataFrame(report).transpose()\n",
    "    \n",
    "    plt.title('Classification Report')\n",
    "    plt.legend([])\n",
    "    sns.heatmap(df, annot=True, vmin=0, vmax=1, linewidths=.5)\n",
    "    plt.savefig(str(Config.PLOT_HEAT_MAP_FILE))\n",
    "    plt.show()\n",
    "    plt.clf()"
   ]
  },
  {
   "cell_type": "code",
   "execution_count": 68,
   "metadata": {},
   "outputs": [
    {
     "data": {
      "image/png": "[encoded data removed]",
      "text/plain": [
       "<Figure size 432x288 with 2 Axes>"
      ]
     },
     "metadata": {
      "needs_background": "light"
     },
     "output_type": "display_data"
    },
    {
     "data": {
      "text/plain": [
       "<Figure size 432x288 with 0 Axes>"
      ]
     },
     "metadata": {},
     "output_type": "display_data"
    }
   ],
   "source": [
    "evaluate()"
   ]
  },
  {
   "cell_type": "code",
   "execution_count": null,
   "metadata": {},
   "outputs": [],
   "source": []
  }
 ],
 "metadata": {
  "kernelspec": {
   "display_name": "Python 3",
   "language": "python",
   "name": "python3"
  },
  "language_info": {
   "codemirror_mode": {
    "name": "ipython",
    "version": 3
   },
   "file_extension": ".py",
   "mimetype": "text/x-python",
   "name": "python",
   "nbconvert_exporter": "python",
   "pygments_lexer": "ipython3",
   "version": "3.7.1"
  }
 },
 "nbformat": 4,
 "nbformat_minor": 4
}
