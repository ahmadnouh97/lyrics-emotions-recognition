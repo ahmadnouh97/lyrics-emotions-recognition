{
 "cells": [
  {
   "cell_type": "code",
   "execution_count": 101,
   "metadata": {},
   "outputs": [],
   "source": [
    "import pandas as pd\n",
    "import re\n",
    "from pathlib import Path\n",
    "import pyarabic.araby as ar\n",
    "from tqdm.notebook import tqdm\n",
    "from sklearn.utils import shuffle\n",
    "import pickle as pkl\n",
    "import os\n",
    "from tensorflow.keras.models import load_model"
   ]
  },
  {
   "cell_type": "code",
   "execution_count": 102,
   "metadata": {},
   "outputs": [],
   "source": [
    "class Config:\n",
    "    raw_data_file = 'tweets.csv'\n",
    "    processed_data_file = 'tweets.csv'\n",
    "    \n",
    "    RAW_DATA_PATH = Path('../../data/raw')\n",
    "    PROCESSED_DATA_PATH = Path('../../data/processed')\n",
    "    \n",
    "    RAW_DATA_FILE = RAW_DATA_PATH / raw_data_file\n",
    "    PROCESSED_DATA_FILE = PROCESSED_DATA_PATH / processed_data_file\n",
    "    \n",
    "    MODEL_PATH = Path('../../model/lyrics')\n",
    "    \n",
    "    AROUSAL_MODEL_PATH = Path('../../model/music/arousal_model.h5')\n",
    "    VALENCE_MODEL_PATH = Path('../../model/music/valence_model.h5')\n",
    "    \n",
    "    PLOT_PATH = Path('../../plots')\n",
    "    PLOT_HEAT_MAP_FILE = PLOT_PATH / Path('heatmap.png')"
   ]
  },
  {
   "cell_type": "code",
   "execution_count": 103,
   "metadata": {},
   "outputs": [],
   "source": [
    "SEED = 42"
   ]
  },
  {
   "cell_type": "code",
   "execution_count": 104,
   "metadata": {},
   "outputs": [],
   "source": [
    "processed_data = pd.read_csv(Config.PROCESSED_DATA_FILE, index_col=False)"
   ]
  },
  {
   "cell_type": "code",
   "execution_count": 105,
   "metadata": {},
   "outputs": [
    {
     "data": {
      "text/html": [
       "<div>\n",
       "<style scoped>\n",
       "    .dataframe tbody tr th:only-of-type {\n",
       "        vertical-align: middle;\n",
       "    }\n",
       "\n",
       "    .dataframe tbody tr th {\n",
       "        vertical-align: top;\n",
       "    }\n",
       "\n",
       "    .dataframe thead th {\n",
       "        text-align: right;\n",
       "    }\n",
       "</style>\n",
       "<table border=\"1\" class=\"dataframe\">\n",
       "  <thead>\n",
       "    <tr style=\"text-align: right;\">\n",
       "      <th></th>\n",
       "      <th>ID</th>\n",
       "      <th>Tweet</th>\n",
       "      <th>Class</th>\n",
       "    </tr>\n",
       "  </thead>\n",
       "  <tbody>\n",
       "    <tr>\n",
       "      <th>0</th>\n",
       "      <td>295820374774513667</td>\n",
       "      <td>رودجرز انا مستاء من لاعبينا الشباب حولنا منحهم...</td>\n",
       "      <td>anger</td>\n",
       "    </tr>\n",
       "    <tr>\n",
       "      <th>1</th>\n",
       "      <td>353619287652581376</td>\n",
       "      <td>من شفت انا عيونه اعلنت انا جنوني</td>\n",
       "      <td>anger</td>\n",
       "    </tr>\n",
       "    <tr>\n",
       "      <th>2</th>\n",
       "      <td>888346524714979329</td>\n",
       "      <td>أتفق انا عصبي وقاسي وعنيد ومتناقض ومزاجي وكتوم...</td>\n",
       "      <td>anger</td>\n",
       "    </tr>\n",
       "    <tr>\n",
       "      <th>3</th>\n",
       "      <td>870974517983752193</td>\n",
       "      <td>على فكرة انا مستاء جدا من تجربتي في محلكم في ا...</td>\n",
       "      <td>anger</td>\n",
       "    </tr>\n",
       "    <tr>\n",
       "      <th>4</th>\n",
       "      <td>886636321342619653</td>\n",
       "      <td>ع قد ما انا عصبي ع قد ما ابسط كلمه حلوه هتنسين...</td>\n",
       "      <td>anger</td>\n",
       "    </tr>\n",
       "  </tbody>\n",
       "</table>\n",
       "</div>"
      ],
      "text/plain": [
       "                   ID                                              Tweet  \\\n",
       "0  295820374774513667  رودجرز انا مستاء من لاعبينا الشباب حولنا منحهم...   \n",
       "1  353619287652581376                   من شفت انا عيونه اعلنت انا جنوني   \n",
       "2  888346524714979329  أتفق انا عصبي وقاسي وعنيد ومتناقض ومزاجي وكتوم...   \n",
       "3  870974517983752193  على فكرة انا مستاء جدا من تجربتي في محلكم في ا...   \n",
       "4  886636321342619653  ع قد ما انا عصبي ع قد ما ابسط كلمه حلوه هتنسين...   \n",
       "\n",
       "   Class  \n",
       "0  anger  \n",
       "1  anger  \n",
       "2  anger  \n",
       "3  anger  \n",
       "4  anger  "
      ]
     },
     "execution_count": 105,
     "metadata": {},
     "output_type": "execute_result"
    }
   ],
   "source": [
    "processed_data.head()"
   ]
  },
  {
   "cell_type": "code",
   "execution_count": 106,
   "metadata": {},
   "outputs": [],
   "source": [
    "data = processed_data[processed_data['Class'].apply(lambda Class: Class in ['happiness', 'sadness', 'anger'])]\n",
    "data = shuffle(data, random_state=SEED)\n",
    "data.reset_index(drop=True, inplace=True)"
   ]
  },
  {
   "cell_type": "code",
   "execution_count": 107,
   "metadata": {},
   "outputs": [
    {
     "data": {
      "text/html": [
       "<div>\n",
       "<style scoped>\n",
       "    .dataframe tbody tr th:only-of-type {\n",
       "        vertical-align: middle;\n",
       "    }\n",
       "\n",
       "    .dataframe tbody tr th {\n",
       "        vertical-align: top;\n",
       "    }\n",
       "\n",
       "    .dataframe thead th {\n",
       "        text-align: right;\n",
       "    }\n",
       "</style>\n",
       "<table border=\"1\" class=\"dataframe\">\n",
       "  <thead>\n",
       "    <tr style=\"text-align: right;\">\n",
       "      <th></th>\n",
       "      <th>ID</th>\n",
       "      <th>Tweet</th>\n",
       "      <th>Class</th>\n",
       "    </tr>\n",
       "  </thead>\n",
       "  <tbody>\n",
       "    <tr>\n",
       "      <th>0</th>\n",
       "      <td>399179057843019776</td>\n",
       "      <td>والله انا فرحان انى مش هكتب بعد الماتش سنظل او...</td>\n",
       "      <td>happiness</td>\n",
       "    </tr>\n",
       "    <tr>\n",
       "      <th>1</th>\n",
       "      <td>166914704663515137</td>\n",
       "      <td>هممم اسأل نفسك هل قدمت وجبة لشخص محتاج او حيوا...</td>\n",
       "      <td>happiness</td>\n",
       "    </tr>\n",
       "    <tr>\n",
       "      <th>2</th>\n",
       "      <td>873773656693977088</td>\n",
       "      <td>انا حزين علي نفسي و علي الي وصلتله ده فكل حاجه...</td>\n",
       "      <td>sadness</td>\n",
       "    </tr>\n",
       "    <tr>\n",
       "      <th>3</th>\n",
       "      <td>696635298046943232</td>\n",
       "      <td>بيتوركا عبر المؤتمر الصحفي انا فرحان ان الجمهو...</td>\n",
       "      <td>happiness</td>\n",
       "    </tr>\n",
       "    <tr>\n",
       "      <th>4</th>\n",
       "      <td>201996771512164352</td>\n",
       "      <td>مسآئي مختلف هذا اليوم مذ ان رأيتك شعرت براحةة ...</td>\n",
       "      <td>happiness</td>\n",
       "    </tr>\n",
       "  </tbody>\n",
       "</table>\n",
       "</div>"
      ],
      "text/plain": [
       "                   ID                                              Tweet  \\\n",
       "0  399179057843019776  والله انا فرحان انى مش هكتب بعد الماتش سنظل او...   \n",
       "1  166914704663515137  هممم اسأل نفسك هل قدمت وجبة لشخص محتاج او حيوا...   \n",
       "2  873773656693977088  انا حزين علي نفسي و علي الي وصلتله ده فكل حاجه...   \n",
       "3  696635298046943232  بيتوركا عبر المؤتمر الصحفي انا فرحان ان الجمهو...   \n",
       "4  201996771512164352  مسآئي مختلف هذا اليوم مذ ان رأيتك شعرت براحةة ...   \n",
       "\n",
       "       Class  \n",
       "0  happiness  \n",
       "1  happiness  \n",
       "2    sadness  \n",
       "3  happiness  \n",
       "4  happiness  "
      ]
     },
     "execution_count": 107,
     "metadata": {},
     "output_type": "execute_result"
    }
   ],
   "source": [
    "data.head()"
   ]
  },
  {
   "cell_type": "code",
   "execution_count": 108,
   "metadata": {},
   "outputs": [
    {
     "data": {
      "text/plain": [
       "happiness    22788\n",
       "sadness      12906\n",
       "anger         1154\n",
       "Name: Class, dtype: int64"
      ]
     },
     "execution_count": 108,
     "metadata": {},
     "output_type": "execute_result"
    }
   ],
   "source": [
    "data['Class'].value_counts()"
   ]
  },
  {
   "cell_type": "code",
   "execution_count": null,
   "metadata": {},
   "outputs": [],
   "source": []
  },
  {
   "cell_type": "code",
   "execution_count": 109,
   "metadata": {},
   "outputs": [],
   "source": [
    "import tensorflow as tf\n",
    "import tensorflow_addons as tfa"
   ]
  },
  {
   "cell_type": "code",
   "execution_count": null,
   "metadata": {},
   "outputs": [],
   "source": []
  },
  {
   "cell_type": "code",
   "execution_count": 110,
   "metadata": {},
   "outputs": [],
   "source": [
    "physical_devices = tf.config.list_physical_devices(\"GPU\")"
   ]
  },
  {
   "cell_type": "code",
   "execution_count": 111,
   "metadata": {},
   "outputs": [],
   "source": [
    "tf.config.experimental.set_memory_growth(physical_devices[0], True)"
   ]
  },
  {
   "cell_type": "code",
   "execution_count": null,
   "metadata": {},
   "outputs": [],
   "source": []
  },
  {
   "cell_type": "code",
   "execution_count": 112,
   "metadata": {},
   "outputs": [],
   "source": [
    "from sklearn.model_selection import train_test_split\n",
    "import numpy as np"
   ]
  },
  {
   "cell_type": "code",
   "execution_count": 113,
   "metadata": {},
   "outputs": [],
   "source": [
    "X = np.array(list(data['Tweet'])).astype(str)\n",
    "y = np.array(list(data['Class'])).astype(str)"
   ]
  },
  {
   "cell_type": "code",
   "execution_count": 114,
   "metadata": {},
   "outputs": [
    {
     "data": {
      "text/plain": [
       "dtype('<U140')"
      ]
     },
     "execution_count": 114,
     "metadata": {},
     "output_type": "execute_result"
    }
   ],
   "source": [
    "X.dtype"
   ]
  },
  {
   "cell_type": "code",
   "execution_count": 115,
   "metadata": {},
   "outputs": [],
   "source": [
    "X_train, X_test, y_train, y_test = train_test_split(X, y, test_size=0.33, random_state=SEED)"
   ]
  },
  {
   "cell_type": "code",
   "execution_count": 116,
   "metadata": {},
   "outputs": [],
   "source": [
    "from sklearn.preprocessing import LabelEncoder"
   ]
  },
  {
   "cell_type": "code",
   "execution_count": 117,
   "metadata": {},
   "outputs": [],
   "source": [
    "label_encoder = LabelEncoder()"
   ]
  },
  {
   "cell_type": "code",
   "execution_count": 118,
   "metadata": {},
   "outputs": [
    {
     "data": {
      "text/plain": [
       "LabelEncoder()"
      ]
     },
     "execution_count": 118,
     "metadata": {},
     "output_type": "execute_result"
    }
   ],
   "source": [
    "label_encoder.fit(y_train)"
   ]
  },
  {
   "cell_type": "code",
   "execution_count": 119,
   "metadata": {},
   "outputs": [
    {
     "data": {
      "text/plain": [
       "array(['anger', 'happiness', 'sadness'], dtype='<U9')"
      ]
     },
     "execution_count": 119,
     "metadata": {},
     "output_type": "execute_result"
    }
   ],
   "source": [
    "label_encoder.classes_"
   ]
  },
  {
   "cell_type": "code",
   "execution_count": 120,
   "metadata": {},
   "outputs": [],
   "source": [
    "class_num = len(label_encoder.classes_)"
   ]
  },
  {
   "cell_type": "code",
   "execution_count": 121,
   "metadata": {},
   "outputs": [],
   "source": [
    "y_train = label_encoder.transform(y_train)\n",
    "y_test = label_encoder.transform(y_test)"
   ]
  },
  {
   "cell_type": "code",
   "execution_count": 122,
   "metadata": {},
   "outputs": [],
   "source": [
    "y_train = tf.keras.utils.to_categorical(y_train, class_num)\n",
    "y_test = tf.keras.utils.to_categorical(y_test, class_num)"
   ]
  },
  {
   "cell_type": "code",
   "execution_count": null,
   "metadata": {},
   "outputs": [],
   "source": []
  },
  {
   "cell_type": "code",
   "execution_count": 123,
   "metadata": {},
   "outputs": [],
   "source": [
    "VOCAB_SIZE = 10000"
   ]
  },
  {
   "cell_type": "code",
   "execution_count": 124,
   "metadata": {},
   "outputs": [],
   "source": [
    "encoder = tf.keras.layers.experimental.preprocessing.TextVectorization(\n",
    "    max_tokens=VOCAB_SIZE\n",
    ")"
   ]
  },
  {
   "cell_type": "code",
   "execution_count": 125,
   "metadata": {},
   "outputs": [],
   "source": [
    "encoder.adapt(X_train)"
   ]
  },
  {
   "cell_type": "code",
   "execution_count": 126,
   "metadata": {},
   "outputs": [
    {
     "data": {
      "text/plain": [
       "<tensorflow.python.keras.layers.preprocessing.text_vectorization.TextVectorization at 0x2396c49a6a0>"
      ]
     },
     "execution_count": 126,
     "metadata": {},
     "output_type": "execute_result"
    }
   ],
   "source": [
    "encoder"
   ]
  },
  {
   "cell_type": "code",
   "execution_count": 127,
   "metadata": {},
   "outputs": [],
   "source": [
    "with open('text_vectorizer.pkl', 'wb') as file:\n",
    "    pkl.dump({\n",
    "        'config': encoder.get_config(),\n",
    "         'weights': encoder.get_weights()\n",
    "    }, file)"
   ]
  },
  {
   "cell_type": "code",
   "execution_count": null,
   "metadata": {},
   "outputs": [],
   "source": []
  },
  {
   "cell_type": "code",
   "execution_count": 128,
   "metadata": {},
   "outputs": [],
   "source": [
    "vocab = np.array(encoder.get_vocabulary())"
   ]
  },
  {
   "cell_type": "code",
   "execution_count": 129,
   "metadata": {},
   "outputs": [
    {
     "data": {
      "text/plain": [
       "'انا'"
      ]
     },
     "execution_count": 129,
     "metadata": {},
     "output_type": "execute_result"
    }
   ],
   "source": [
    "vocab[0].decode('UTF-8')"
   ]
  },
  {
   "cell_type": "code",
   "execution_count": 130,
   "metadata": {},
   "outputs": [],
   "source": [
    "vocab = np.array(encoder.get_vocabulary())"
   ]
  },
  {
   "cell_type": "code",
   "execution_count": 131,
   "metadata": {},
   "outputs": [],
   "source": [
    "vocab_utf8 = [word.decode('UTF-8') for word in vocab]"
   ]
  },
  {
   "cell_type": "code",
   "execution_count": 132,
   "metadata": {},
   "outputs": [],
   "source": [
    "tf.keras.backend.clear_session()"
   ]
  },
  {
   "cell_type": "code",
   "execution_count": 133,
   "metadata": {},
   "outputs": [],
   "source": [
    "def create_model():\n",
    "    model = tf.keras.Sequential()\n",
    "    \n",
    "    model.add(tf.keras.Input(shape=(1,), dtype=tf.string))\n",
    "    \n",
    "    model.add(encoder)\n",
    "    \n",
    "    model.add(\n",
    "        tf.keras.layers.Embedding(\n",
    "        input_dim=VOCAB_SIZE+1,\n",
    "        output_dim=64,\n",
    "        # Use masking to handle the variable sequence lengths\n",
    "        mask_zero=True)\n",
    "    )\n",
    "    \n",
    "    model.add(\n",
    "        tf.keras.layers.Bidirectional(tf.keras.layers.LSTM(64))\n",
    "    )\n",
    "    \n",
    "    model.add(\n",
    "        tf.keras.layers.Dense(64, activation='relu')\n",
    "    )\n",
    "    \n",
    "    model.add(\n",
    "        tf.keras.layers.Dense(class_num)\n",
    "    )\n",
    "    return model"
   ]
  },
  {
   "cell_type": "code",
   "execution_count": 134,
   "metadata": {},
   "outputs": [],
   "source": [
    "model = create_model()"
   ]
  },
  {
   "cell_type": "code",
   "execution_count": 135,
   "metadata": {},
   "outputs": [],
   "source": [
    "model.compile(\n",
    "    loss=tf.keras.losses.CategoricalCrossentropy(from_logits=True),\n",
    "    optimizer=tf.keras.optimizers.Adam(1e-4),\n",
    "    metrics=[tfa.metrics.F1Score(class_num)]\n",
    ")"
   ]
  },
  {
   "cell_type": "code",
   "execution_count": 136,
   "metadata": {},
   "outputs": [
    {
     "data": {
      "text/plain": [
       "(24688,)"
      ]
     },
     "execution_count": 136,
     "metadata": {},
     "output_type": "execute_result"
    }
   ],
   "source": [
    "X_train.shape"
   ]
  },
  {
   "cell_type": "code",
   "execution_count": 137,
   "metadata": {},
   "outputs": [
    {
     "data": {
      "text/plain": [
       "(24688, 3)"
      ]
     },
     "execution_count": 137,
     "metadata": {},
     "output_type": "execute_result"
    }
   ],
   "source": [
    "y_train.shape"
   ]
  },
  {
   "cell_type": "code",
   "execution_count": 138,
   "metadata": {},
   "outputs": [],
   "source": [
    "checkpoint_path = str(Config.MODEL_PATH /  \"cp-{epoch:04d}.ckpt\")\n",
    "checkpoint_dir = os.path.dirname(checkpoint_path)"
   ]
  },
  {
   "cell_type": "code",
   "execution_count": 139,
   "metadata": {},
   "outputs": [],
   "source": [
    "model_check_point_cb = tf.keras.callbacks.ModelCheckpoint(checkpoint_path,\n",
    "                                                   monitor='val_f1_score',\n",
    "                                                   save_weights_only=True)"
   ]
  },
  {
   "cell_type": "code",
   "execution_count": 140,
   "metadata": {},
   "outputs": [
    {
     "name": "stdout",
     "output_type": "stream",
     "text": [
      "Train on 19750 samples, validate on 4938 samples\n",
      "Epoch 1/15\n",
      "19750/19750 [==============================] - 43s 2ms/sample - loss: 0.5413 - f1_score: 0.5111 - val_loss: 0.1581 - val_f1_score: 0.6461\n",
      "Epoch 2/15\n",
      "19750/19750 [==============================] - 25s 1ms/sample - loss: 0.1055 - f1_score: 0.6586 - val_loss: 0.0893 - val_f1_score: 0.6924\n",
      "Epoch 3/15\n",
      "19750/19750 [==============================] - 25s 1ms/sample - loss: 0.0580 - f1_score: 0.8241 - val_loss: 0.0697 - val_f1_score: 0.8437\n",
      "Epoch 4/15\n",
      "19750/19750 [==============================] - 25s 1ms/sample - loss: 0.0348 - f1_score: 0.9404 - val_loss: 0.0718 - val_f1_score: 0.8975\n",
      "Epoch 5/15\n",
      "19750/19750 [==============================] - 19s 973us/sample - loss: 0.0229 - f1_score: 0.9747 - val_loss: 0.0676 - val_f1_score: 0.9311\n",
      "Epoch 6/15\n",
      "19750/19750 [==============================] - 19s 974us/sample - loss: 0.0137 - f1_score: 0.9909 - val_loss: 0.0719 - val_f1_score: 0.9423\n",
      "Epoch 7/15\n",
      "19750/19750 [==============================] - 25s 1ms/sample - loss: 0.0096 - f1_score: 0.9929 - val_loss: 0.0812 - val_f1_score: 0.9509\n",
      "Epoch 8/15\n",
      "19750/19750 [==============================] - 19s 965us/sample - loss: 0.0065 - f1_score: 0.9965 - val_loss: 0.0775 - val_f1_score: 0.9515\n",
      "Epoch 9/15\n",
      "19750/19750 [==============================] - 25s 1ms/sample - loss: 0.0077 - f1_score: 0.9942 - val_loss: 0.0820 - val_f1_score: 0.9547\n",
      "Epoch 10/15\n",
      "19750/19750 [==============================] - 19s 972us/sample - loss: 0.0046 - f1_score: 0.9981 - val_loss: 0.0733 - val_f1_score: 0.9513\n",
      "Epoch 11/15\n",
      "19750/19750 [==============================] - 25s 1ms/sample - loss: 0.0024 - f1_score: 0.9992 - val_loss: 0.0782 - val_f1_score: 0.9566\n",
      "Epoch 12/15\n",
      "19750/19750 [==============================] - 25s 1ms/sample - loss: 0.0037 - f1_score: 0.9978 - val_loss: 0.0930 - val_f1_score: 0.9537\n",
      "Epoch 13/15\n",
      "19750/19750 [==============================] - 29s 1ms/sample - loss: 0.0021 - f1_score: 0.9991 - val_loss: 0.0719 - val_f1_score: 0.9633\n",
      "Epoch 14/15\n",
      "19750/19750 [==============================] - 19s 971us/sample - loss: 0.0012 - f1_score: 0.9992 - val_loss: 0.0734 - val_f1_score: 0.9619\n",
      "Epoch 15/15\n",
      "19750/19750 [==============================] - 25s 1ms/sample - loss: 9.0795e-04 - f1_score: 0.9997 - val_loss: 0.0770 - val_f1_score: 0.9613\n"
     ]
    }
   ],
   "source": [
    "history = model.fit(X_train, y_train, epochs=15, batch_size=32, validation_split=0.2, callbacks=[model_check_point_cb])"
   ]
  },
  {
   "cell_type": "code",
   "execution_count": null,
   "metadata": {},
   "outputs": [],
   "source": []
  },
  {
   "cell_type": "code",
   "execution_count": 141,
   "metadata": {},
   "outputs": [],
   "source": [
    "from sklearn.metrics import classification_report\n",
    "import matplotlib.pyplot as plt\n",
    "import seaborn as sns\n",
    "%matplotlib inline"
   ]
  },
  {
   "cell_type": "code",
   "execution_count": null,
   "metadata": {},
   "outputs": [],
   "source": []
  },
  {
   "cell_type": "code",
   "execution_count": 142,
   "metadata": {},
   "outputs": [
    {
     "data": {
      "text/plain": [
       "<tensorflow.python.training.tracking.util.CheckpointLoadStatus at 0x2398a681dd8>"
      ]
     },
     "execution_count": 142,
     "metadata": {},
     "output_type": "execute_result"
    }
   ],
   "source": [
    "model.load_weights(checkpoint_path.format(epoch=13))"
   ]
  },
  {
   "cell_type": "code",
   "execution_count": null,
   "metadata": {},
   "outputs": [],
   "source": []
  },
  {
   "cell_type": "code",
   "execution_count": 143,
   "metadata": {},
   "outputs": [],
   "source": [
    "def evaluate(model):\n",
    "    Config.PLOT_PATH.mkdir(parents=True, exist_ok=True)\n",
    "    predictions = model.predict(X_test)\n",
    "    \n",
    "    y_pred = predictions.argmax(axis=1)\n",
    "    y_true = y_test.argmax(axis=1)\n",
    "    \n",
    "    report = classification_report(y_true, y_pred, output_dict=True)\n",
    "    df = pd.DataFrame(report).transpose()\n",
    "    \n",
    "    plt.title('Classification Report')\n",
    "    plt.legend([])\n",
    "    sns.heatmap(df, annot=True, vmin=0, vmax=1, linewidths=.5)\n",
    "    plt.savefig(str(Config.PLOT_HEAT_MAP_FILE))\n",
    "    plt.show()\n",
    "    plt.clf()"
   ]
  },
  {
   "cell_type": "code",
   "execution_count": 144,
   "metadata": {},
   "outputs": [
    {
     "data": {
      "image/png": "[encoded data removed]",
      "text/plain": [
       "<Figure size 432x288 with 2 Axes>"
      ]
     },
     "metadata": {
      "needs_background": "light"
     },
     "output_type": "display_data"
    },
    {
     "data": {
      "text/plain": [
       "<Figure size 432x288 with 0 Axes>"
      ]
     },
     "metadata": {},
     "output_type": "display_data"
    }
   ],
   "source": [
    "evaluate(model)"
   ]
  },
  {
   "cell_type": "code",
   "execution_count": null,
   "metadata": {},
   "outputs": [],
   "source": []
  },
  {
   "cell_type": "code",
   "execution_count": 145,
   "metadata": {},
   "outputs": [],
   "source": [
    "arousal_model = load_model(Config.AROUSAL_MODEL_PATH)"
   ]
  },
  {
   "cell_type": "code",
   "execution_count": 146,
   "metadata": {},
   "outputs": [
    {
     "name": "stdout",
     "output_type": "stream",
     "text": [
      "Model: \"model_1\"\n",
      "_________________________________________________________________\n",
      "Layer (type)                 Output Shape              Param #   \n",
      "=================================================================\n",
      "input_1 (InputLayer)         [(None, 6373)]            0         \n",
      "_________________________________________________________________\n",
      "dense_1 (Dense)              (None, 8)                 50992     \n",
      "_________________________________________________________________\n",
      "dense_2 (Dense)              (None, 4)                 36        \n",
      "_________________________________________________________________\n",
      "dense_3 (Dense)              (None, 1)                 5         \n",
      "=================================================================\n",
      "Total params: 51,033\n",
      "Trainable params: 51,033\n",
      "Non-trainable params: 0\n",
      "_________________________________________________________________\n"
     ]
    }
   ],
   "source": [
    "arousal_model.summary()"
   ]
  },
  {
   "cell_type": "code",
   "execution_count": 147,
   "metadata": {},
   "outputs": [],
   "source": [
    "valence_model = load_model(Config.VALENCE_MODEL_PATH)"
   ]
  },
  {
   "cell_type": "code",
   "execution_count": 148,
   "metadata": {},
   "outputs": [
    {
     "name": "stdout",
     "output_type": "stream",
     "text": [
      "Model: \"model_1\"\n",
      "_________________________________________________________________\n",
      "Layer (type)                 Output Shape              Param #   \n",
      "=================================================================\n",
      "input_1 (InputLayer)         [(None, 6373)]            0         \n",
      "_________________________________________________________________\n",
      "dense_1 (Dense)              (None, 8)                 50992     \n",
      "_________________________________________________________________\n",
      "dense_2 (Dense)              (None, 4)                 36        \n",
      "_________________________________________________________________\n",
      "dense_3 (Dense)              (None, 1)                 5         \n",
      "=================================================================\n",
      "Total params: 51,033\n",
      "Trainable params: 51,033\n",
      "Non-trainable params: 0\n",
      "_________________________________________________________________\n"
     ]
    }
   ],
   "source": [
    "valence_model.summary()"
   ]
  },
  {
   "cell_type": "code",
   "execution_count": null,
   "metadata": {},
   "outputs": [],
   "source": []
  },
  {
   "cell_type": "code",
   "execution_count": null,
   "metadata": {},
   "outputs": [],
   "source": []
  },
  {
   "cell_type": "code",
   "execution_count": 176,
   "metadata": {},
   "outputs": [],
   "source": [
    "arousal_model.layers[0]._name = \"arousal_input\"\n",
    "valence_model.layers[0]._name = \"valence_input\"\n",
    "model.layers[0]._name = \"lyrics_input\""
   ]
  },
  {
   "cell_type": "code",
   "execution_count": 184,
   "metadata": {},
   "outputs": [],
   "source": [
    "arousal_model.layers[1]._name = \"arousal_dense_1\"\n",
    "arousal_model.layers[2]._name = \"arousal_dense_2\""
   ]
  },
  {
   "cell_type": "code",
   "execution_count": 185,
   "metadata": {},
   "outputs": [],
   "source": [
    "valence_model.layers[1]._name = \"valence_dense_1\"\n",
    "valence_model.layers[2]._name = \"valence_dense_2\""
   ]
  },
  {
   "cell_type": "code",
   "execution_count": 186,
   "metadata": {},
   "outputs": [],
   "source": [
    "arousal_input = arousal_model.layers[0].input\n",
    "valence_input = valence_model.layers[0].input"
   ]
  },
  {
   "cell_type": "code",
   "execution_count": 187,
   "metadata": {},
   "outputs": [],
   "source": [
    "arousal_output = arousal_model.layers[-2].output\n",
    "valence_output = valence_model.layers[-2].output"
   ]
  },
  {
   "cell_type": "code",
   "execution_count": 188,
   "metadata": {},
   "outputs": [],
   "source": [
    "lyrics_input = model.layers[0].input"
   ]
  },
  {
   "cell_type": "code",
   "execution_count": 189,
   "metadata": {},
   "outputs": [],
   "source": [
    "lyrics_output = model.layers[-2].output"
   ]
  },
  {
   "cell_type": "code",
   "execution_count": 190,
   "metadata": {},
   "outputs": [],
   "source": [
    "concat_layer = tf.keras.layers.Concatenate(name=\"concat_layer\")([lyrics_output, arousal_output, valence_output])"
   ]
  },
  {
   "cell_type": "code",
   "execution_count": 191,
   "metadata": {},
   "outputs": [],
   "source": [
    "output = tf.keras.layers.Dense(class_num, activation='softmax', name=\"output_layer\")(concat_layer)"
   ]
  },
  {
   "cell_type": "code",
   "execution_count": 192,
   "metadata": {},
   "outputs": [],
   "source": [
    "final_model = tf.keras.Model(inputs=[lyrics_input, arousal_input, valence_input], outputs=output)"
   ]
  },
  {
   "cell_type": "code",
   "execution_count": null,
   "metadata": {},
   "outputs": [],
   "source": []
  },
  {
   "cell_type": "code",
   "execution_count": null,
   "metadata": {},
   "outputs": [],
   "source": []
  }
 ],
 "metadata": {
  "kernelspec": {
   "display_name": "Python 3",
   "language": "python",
   "name": "python3"
  },
  "language_info": {
   "codemirror_mode": {
    "name": "ipython",
    "version": 3
   },
   "file_extension": ".py",
   "mimetype": "text/x-python",
   "name": "python",
   "nbconvert_exporter": "python",
   "pygments_lexer": "ipython3",
   "version": "3.7.1"
  }
 },
 "nbformat": 4,
 "nbformat_minor": 4
}
