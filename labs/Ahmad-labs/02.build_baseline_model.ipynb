{
 "cells": [
  {
   "cell_type": "code",
   "execution_count": 1,
   "metadata": {},
   "outputs": [],
   "source": [
    "import pandas as pd\n",
    "import re\n",
    "from pathlib import Path\n",
    "import pyarabic.araby as ar\n",
    "from tqdm.notebook import tqdm\n",
    "from sklearn.utils import shuffle\n",
    "import pickle as pkl\n",
    "import os\n",
    "from tensorflow.keras.models import load_model"
   ]
  },
  {
   "cell_type": "code",
   "execution_count": 2,
   "metadata": {},
   "outputs": [],
   "source": [
    "class Config:\n",
    "    raw_data_file = 'tweets.csv'\n",
    "    processed_data_file = 'tweets.csv'\n",
    "    \n",
    "    RAW_DATA_PATH = Path('../../data/raw')\n",
    "    PROCESSED_DATA_PATH = Path('../../data/processed')\n",
    "    \n",
    "    RAW_DATA_FILE = RAW_DATA_PATH / raw_data_file\n",
    "    PROCESSED_DATA_FILE = PROCESSED_DATA_PATH / processed_data_file\n",
    "    \n",
    "    MODEL_PATH = Path('../../model/lyrics')\n",
    "    \n",
    "    AROUSAL_MODEL_PATH = Path('../../model/music/arousal_model.h5')\n",
    "    VALENCE_MODEL_PATH = Path('../../model/music/valence_model.h5')\n",
    "    \n",
    "    PLOT_PATH = Path('../../plots')\n",
    "    PLOT_HEAT_MAP_FILE = PLOT_PATH / Path('heatmap.png')"
   ]
  },
  {
   "cell_type": "code",
   "execution_count": 3,
   "metadata": {},
   "outputs": [],
   "source": [
    "SEED = 42"
   ]
  },
  {
   "cell_type": "code",
   "execution_count": 4,
   "metadata": {},
   "outputs": [],
   "source": [
    "processed_data = pd.read_csv(Config.PROCESSED_DATA_FILE, index_col=False)"
   ]
  },
  {
   "cell_type": "code",
   "execution_count": 5,
   "metadata": {},
   "outputs": [
    {
     "data": {
      "text/html": [
       "<div>\n",
       "<style scoped>\n",
       "    .dataframe tbody tr th:only-of-type {\n",
       "        vertical-align: middle;\n",
       "    }\n",
       "\n",
       "    .dataframe tbody tr th {\n",
       "        vertical-align: top;\n",
       "    }\n",
       "\n",
       "    .dataframe thead th {\n",
       "        text-align: right;\n",
       "    }\n",
       "</style>\n",
       "<table border=\"1\" class=\"dataframe\">\n",
       "  <thead>\n",
       "    <tr style=\"text-align: right;\">\n",
       "      <th></th>\n",
       "      <th>ID</th>\n",
       "      <th>Tweet</th>\n",
       "      <th>Class</th>\n",
       "    </tr>\n",
       "  </thead>\n",
       "  <tbody>\n",
       "    <tr>\n",
       "      <th>0</th>\n",
       "      <td>295820374774513667</td>\n",
       "      <td>رودجرز انا مستاء من لاعبينا الشباب حولنا منحهم...</td>\n",
       "      <td>anger</td>\n",
       "    </tr>\n",
       "    <tr>\n",
       "      <th>1</th>\n",
       "      <td>353619287652581376</td>\n",
       "      <td>من شفت انا عيونه اعلنت انا جنوني</td>\n",
       "      <td>anger</td>\n",
       "    </tr>\n",
       "    <tr>\n",
       "      <th>2</th>\n",
       "      <td>888346524714979329</td>\n",
       "      <td>أتفق انا عصبي وقاسي وعنيد ومتناقض ومزاجي وكتوم...</td>\n",
       "      <td>anger</td>\n",
       "    </tr>\n",
       "    <tr>\n",
       "      <th>3</th>\n",
       "      <td>870974517983752193</td>\n",
       "      <td>على فكرة انا مستاء جدا من تجربتي في محلكم في ا...</td>\n",
       "      <td>anger</td>\n",
       "    </tr>\n",
       "    <tr>\n",
       "      <th>4</th>\n",
       "      <td>886636321342619653</td>\n",
       "      <td>ع قد ما انا عصبي ع قد ما ابسط كلمه حلوه هتنسين...</td>\n",
       "      <td>anger</td>\n",
       "    </tr>\n",
       "  </tbody>\n",
       "</table>\n",
       "</div>"
      ],
      "text/plain": [
       "                   ID                                              Tweet  \\\n",
       "0  295820374774513667  رودجرز انا مستاء من لاعبينا الشباب حولنا منحهم...   \n",
       "1  353619287652581376                   من شفت انا عيونه اعلنت انا جنوني   \n",
       "2  888346524714979329  أتفق انا عصبي وقاسي وعنيد ومتناقض ومزاجي وكتوم...   \n",
       "3  870974517983752193  على فكرة انا مستاء جدا من تجربتي في محلكم في ا...   \n",
       "4  886636321342619653  ع قد ما انا عصبي ع قد ما ابسط كلمه حلوه هتنسين...   \n",
       "\n",
       "   Class  \n",
       "0  anger  \n",
       "1  anger  \n",
       "2  anger  \n",
       "3  anger  \n",
       "4  anger  "
      ]
     },
     "execution_count": 5,
     "metadata": {},
     "output_type": "execute_result"
    }
   ],
   "source": [
    "processed_data.head()"
   ]
  },
  {
   "cell_type": "code",
   "execution_count": 6,
   "metadata": {},
   "outputs": [],
   "source": [
    "data = processed_data[processed_data['Class'].apply(lambda Class: Class in ['happiness', 'sadness', 'anger'])]\n",
    "data = shuffle(data, random_state=SEED)\n",
    "data.reset_index(drop=True, inplace=True)"
   ]
  },
  {
   "cell_type": "code",
   "execution_count": 7,
   "metadata": {},
   "outputs": [
    {
     "data": {
      "text/html": [
       "<div>\n",
       "<style scoped>\n",
       "    .dataframe tbody tr th:only-of-type {\n",
       "        vertical-align: middle;\n",
       "    }\n",
       "\n",
       "    .dataframe tbody tr th {\n",
       "        vertical-align: top;\n",
       "    }\n",
       "\n",
       "    .dataframe thead th {\n",
       "        text-align: right;\n",
       "    }\n",
       "</style>\n",
       "<table border=\"1\" class=\"dataframe\">\n",
       "  <thead>\n",
       "    <tr style=\"text-align: right;\">\n",
       "      <th></th>\n",
       "      <th>ID</th>\n",
       "      <th>Tweet</th>\n",
       "      <th>Class</th>\n",
       "    </tr>\n",
       "  </thead>\n",
       "  <tbody>\n",
       "    <tr>\n",
       "      <th>0</th>\n",
       "      <td>399179057843019776</td>\n",
       "      <td>والله انا فرحان انى مش هكتب بعد الماتش سنظل او...</td>\n",
       "      <td>happiness</td>\n",
       "    </tr>\n",
       "    <tr>\n",
       "      <th>1</th>\n",
       "      <td>166914704663515137</td>\n",
       "      <td>هممم اسأل نفسك هل قدمت وجبة لشخص محتاج او حيوا...</td>\n",
       "      <td>happiness</td>\n",
       "    </tr>\n",
       "    <tr>\n",
       "      <th>2</th>\n",
       "      <td>873773656693977088</td>\n",
       "      <td>انا حزين علي نفسي و علي الي وصلتله ده فكل حاجه...</td>\n",
       "      <td>sadness</td>\n",
       "    </tr>\n",
       "    <tr>\n",
       "      <th>3</th>\n",
       "      <td>696635298046943232</td>\n",
       "      <td>بيتوركا عبر المؤتمر الصحفي انا فرحان ان الجمهو...</td>\n",
       "      <td>happiness</td>\n",
       "    </tr>\n",
       "    <tr>\n",
       "      <th>4</th>\n",
       "      <td>201996771512164352</td>\n",
       "      <td>مسآئي مختلف هذا اليوم مذ ان رأيتك شعرت براحةة ...</td>\n",
       "      <td>happiness</td>\n",
       "    </tr>\n",
       "  </tbody>\n",
       "</table>\n",
       "</div>"
      ],
      "text/plain": [
       "                   ID                                              Tweet  \\\n",
       "0  399179057843019776  والله انا فرحان انى مش هكتب بعد الماتش سنظل او...   \n",
       "1  166914704663515137  هممم اسأل نفسك هل قدمت وجبة لشخص محتاج او حيوا...   \n",
       "2  873773656693977088  انا حزين علي نفسي و علي الي وصلتله ده فكل حاجه...   \n",
       "3  696635298046943232  بيتوركا عبر المؤتمر الصحفي انا فرحان ان الجمهو...   \n",
       "4  201996771512164352  مسآئي مختلف هذا اليوم مذ ان رأيتك شعرت براحةة ...   \n",
       "\n",
       "       Class  \n",
       "0  happiness  \n",
       "1  happiness  \n",
       "2    sadness  \n",
       "3  happiness  \n",
       "4  happiness  "
      ]
     },
     "execution_count": 7,
     "metadata": {},
     "output_type": "execute_result"
    }
   ],
   "source": [
    "data.head()"
   ]
  },
  {
   "cell_type": "code",
   "execution_count": 8,
   "metadata": {},
   "outputs": [
    {
     "data": {
      "text/plain": [
       "happiness    22788\n",
       "sadness      12906\n",
       "anger         1154\n",
       "Name: Class, dtype: int64"
      ]
     },
     "execution_count": 8,
     "metadata": {},
     "output_type": "execute_result"
    }
   ],
   "source": [
    "data['Class'].value_counts()"
   ]
  },
  {
   "cell_type": "code",
   "execution_count": null,
   "metadata": {},
   "outputs": [],
   "source": []
  },
  {
   "cell_type": "code",
   "execution_count": 1,
   "metadata": {},
   "outputs": [],
   "source": [
    "import tensorflow as tf\n",
    "import tensorflow_addons as tfa"
   ]
  },
  {
   "cell_type": "code",
   "execution_count": null,
   "metadata": {},
   "outputs": [],
   "source": []
  },
  {
   "cell_type": "code",
   "execution_count": 10,
   "metadata": {},
   "outputs": [],
   "source": [
    "physical_devices = tf.config.list_physical_devices(\"GPU\")"
   ]
  },
  {
   "cell_type": "code",
   "execution_count": 11,
   "metadata": {},
   "outputs": [],
   "source": [
    "tf.config.experimental.set_memory_growth(physical_devices[0], True)"
   ]
  },
  {
   "cell_type": "code",
   "execution_count": null,
   "metadata": {},
   "outputs": [],
   "source": []
  },
  {
   "cell_type": "code",
   "execution_count": 12,
   "metadata": {},
   "outputs": [],
   "source": [
    "from sklearn.model_selection import train_test_split\n",
    "import numpy as np"
   ]
  },
  {
   "cell_type": "code",
   "execution_count": 13,
   "metadata": {},
   "outputs": [],
   "source": [
    "X = np.array(list(data['Tweet'])).astype(str)\n",
    "y = np.array(list(data['Class'])).astype(str)"
   ]
  },
  {
   "cell_type": "code",
   "execution_count": 14,
   "metadata": {},
   "outputs": [
    {
     "data": {
      "text/plain": [
       "dtype('<U140')"
      ]
     },
     "execution_count": 14,
     "metadata": {},
     "output_type": "execute_result"
    }
   ],
   "source": [
    "X.dtype"
   ]
  },
  {
   "cell_type": "code",
   "execution_count": 15,
   "metadata": {},
   "outputs": [],
   "source": [
    "X_train, X_test, y_train, y_test = train_test_split(X, y, test_size=0.33, random_state=SEED)"
   ]
  },
  {
   "cell_type": "code",
   "execution_count": 16,
   "metadata": {},
   "outputs": [],
   "source": [
    "from sklearn.preprocessing import LabelEncoder"
   ]
  },
  {
   "cell_type": "code",
   "execution_count": 17,
   "metadata": {},
   "outputs": [],
   "source": [
    "label_encoder = LabelEncoder()"
   ]
  },
  {
   "cell_type": "code",
   "execution_count": 18,
   "metadata": {},
   "outputs": [
    {
     "data": {
      "text/plain": [
       "LabelEncoder()"
      ]
     },
     "execution_count": 18,
     "metadata": {},
     "output_type": "execute_result"
    }
   ],
   "source": [
    "label_encoder.fit(y_train)"
   ]
  },
  {
   "cell_type": "code",
   "execution_count": 19,
   "metadata": {},
   "outputs": [
    {
     "data": {
      "text/plain": [
       "array(['anger', 'happiness', 'sadness'], dtype='<U9')"
      ]
     },
     "execution_count": 19,
     "metadata": {},
     "output_type": "execute_result"
    }
   ],
   "source": [
    "label_encoder.classes_"
   ]
  },
  {
   "cell_type": "code",
   "execution_count": 20,
   "metadata": {},
   "outputs": [],
   "source": [
    "class_num = len(label_encoder.classes_)"
   ]
  },
  {
   "cell_type": "code",
   "execution_count": 21,
   "metadata": {},
   "outputs": [],
   "source": [
    "y_train = label_encoder.transform(y_train)\n",
    "y_test = label_encoder.transform(y_test)"
   ]
  },
  {
   "cell_type": "code",
   "execution_count": 22,
   "metadata": {},
   "outputs": [],
   "source": [
    "y_train = tf.keras.utils.to_categorical(y_train, class_num)\n",
    "y_test = tf.keras.utils.to_categorical(y_test, class_num)"
   ]
  },
  {
   "cell_type": "code",
   "execution_count": null,
   "metadata": {},
   "outputs": [],
   "source": []
  },
  {
   "cell_type": "code",
   "execution_count": 23,
   "metadata": {},
   "outputs": [],
   "source": [
    "VOCAB_SIZE = 10000"
   ]
  },
  {
   "cell_type": "code",
   "execution_count": 24,
   "metadata": {},
   "outputs": [],
   "source": [
    "encoder = tf.keras.layers.experimental.preprocessing.TextVectorization(\n",
    "    max_tokens=VOCAB_SIZE\n",
    ")"
   ]
  },
  {
   "cell_type": "code",
   "execution_count": 25,
   "metadata": {},
   "outputs": [],
   "source": [
    "encoder.adapt(X_train)"
   ]
  },
  {
   "cell_type": "code",
   "execution_count": 26,
   "metadata": {},
   "outputs": [
    {
     "data": {
      "text/plain": [
       "<tensorflow.python.keras.layers.preprocessing.text_vectorization.TextVectorization at 0x1f280f7f5c0>"
      ]
     },
     "execution_count": 26,
     "metadata": {},
     "output_type": "execute_result"
    }
   ],
   "source": [
    "encoder"
   ]
  },
  {
   "cell_type": "code",
   "execution_count": 27,
   "metadata": {},
   "outputs": [],
   "source": [
    "with open('text_vectorizer.pkl', 'wb') as file:\n",
    "    pkl.dump({\n",
    "        'config': encoder.get_config(),\n",
    "         'weights': encoder.get_weights()\n",
    "    }, file)"
   ]
  },
  {
   "cell_type": "code",
   "execution_count": null,
   "metadata": {},
   "outputs": [],
   "source": []
  },
  {
   "cell_type": "code",
   "execution_count": 28,
   "metadata": {},
   "outputs": [],
   "source": [
    "vocab = np.array(encoder.get_vocabulary())"
   ]
  },
  {
   "cell_type": "code",
   "execution_count": 29,
   "metadata": {},
   "outputs": [
    {
     "data": {
      "text/plain": [
       "'انا'"
      ]
     },
     "execution_count": 29,
     "metadata": {},
     "output_type": "execute_result"
    }
   ],
   "source": [
    "vocab[0].decode('UTF-8')"
   ]
  },
  {
   "cell_type": "code",
   "execution_count": 30,
   "metadata": {},
   "outputs": [],
   "source": [
    "vocab = np.array(encoder.get_vocabulary())"
   ]
  },
  {
   "cell_type": "code",
   "execution_count": 31,
   "metadata": {},
   "outputs": [],
   "source": [
    "vocab_utf8 = [word.decode('UTF-8') for word in vocab]"
   ]
  },
  {
   "cell_type": "code",
   "execution_count": 32,
   "metadata": {},
   "outputs": [],
   "source": [
    "tf.keras.backend.clear_session()"
   ]
  },
  {
   "cell_type": "code",
   "execution_count": 33,
   "metadata": {},
   "outputs": [],
   "source": [
    "def create_model():\n",
    "    model = tf.keras.Sequential()\n",
    "    \n",
    "    model.add(tf.keras.Input(shape=(1,), dtype=tf.string))\n",
    "    \n",
    "    model.add(encoder)\n",
    "    \n",
    "    model.add(\n",
    "        tf.keras.layers.Embedding(\n",
    "        input_dim=VOCAB_SIZE+1,\n",
    "        output_dim=64,\n",
    "        # Use masking to handle the variable sequence lengths\n",
    "        mask_zero=True)\n",
    "    )\n",
    "    \n",
    "    model.add(\n",
    "        tf.keras.layers.Bidirectional(tf.keras.layers.LSTM(64))\n",
    "    )\n",
    "    \n",
    "    model.add(\n",
    "        tf.keras.layers.Dense(64, activation='relu')\n",
    "    )\n",
    "    \n",
    "    model.add(\n",
    "        tf.keras.layers.Dense(class_num, 'softmax')\n",
    "    )\n",
    "    return model"
   ]
  },
  {
   "cell_type": "code",
   "execution_count": 34,
   "metadata": {},
   "outputs": [],
   "source": [
    "model = create_model()"
   ]
  },
  {
   "cell_type": "code",
   "execution_count": 35,
   "metadata": {},
   "outputs": [],
   "source": [
    "model.compile(\n",
    "    loss=tf.keras.losses.CategoricalCrossentropy(),\n",
    "    optimizer=tf.keras.optimizers.Adam(1e-4),\n",
    "    metrics=[tfa.metrics.F1Score(class_num)]\n",
    ")"
   ]
  },
  {
   "cell_type": "code",
   "execution_count": 36,
   "metadata": {},
   "outputs": [
    {
     "data": {
      "text/plain": [
       "(24688,)"
      ]
     },
     "execution_count": 36,
     "metadata": {},
     "output_type": "execute_result"
    }
   ],
   "source": [
    "X_train.shape"
   ]
  },
  {
   "cell_type": "code",
   "execution_count": 37,
   "metadata": {},
   "outputs": [
    {
     "data": {
      "text/plain": [
       "(24688, 3)"
      ]
     },
     "execution_count": 37,
     "metadata": {},
     "output_type": "execute_result"
    }
   ],
   "source": [
    "y_train.shape"
   ]
  },
  {
   "cell_type": "code",
   "execution_count": 38,
   "metadata": {},
   "outputs": [],
   "source": [
    "checkpoint_path = str(Config.MODEL_PATH /  \"cp-{epoch:04d}.ckpt\")\n",
    "checkpoint_dir = os.path.dirname(checkpoint_path)"
   ]
  },
  {
   "cell_type": "code",
   "execution_count": 39,
   "metadata": {},
   "outputs": [],
   "source": [
    "model_check_point_cb = tf.keras.callbacks.ModelCheckpoint(checkpoint_path,\n",
    "                                                   monitor='val_f1_score',\n",
    "                                                   save_weights_only=True)"
   ]
  },
  {
   "cell_type": "code",
   "execution_count": 40,
   "metadata": {},
   "outputs": [
    {
     "name": "stdout",
     "output_type": "stream",
     "text": [
      "Train on 19750 samples, validate on 4938 samples\n",
      "Epoch 1/15\n",
      "19750/19750 [==============================] - 46s 2ms/sample - loss: 0.5256 - f1_score: 0.5494 - val_loss: 0.1486 - val_f1_score: 0.6488\n",
      "Epoch 2/15\n",
      "19750/19750 [==============================] - 17s 851us/sample - loss: 0.1009 - f1_score: 0.6739 - val_loss: 0.0877 - val_f1_score: 0.7121\n",
      "Epoch 3/15\n",
      "19750/19750 [==============================] - 17s 836us/sample - loss: 0.0555 - f1_score: 0.8474 - val_loss: 0.0642 - val_f1_score: 0.8728\n",
      "Epoch 4/15\n",
      "19750/19750 [==============================] - 17s 852us/sample - loss: 0.0352 - f1_score: 0.9405 - val_loss: 0.0587 - val_f1_score: 0.9237\n",
      "Epoch 5/15\n",
      "19750/19750 [==============================] - 17s 845us/sample - loss: 0.0229 - f1_score: 0.9782 - val_loss: 0.0618 - val_f1_score: 0.9415\n",
      "Epoch 6/15\n",
      "19750/19750 [==============================] - 17s 852us/sample - loss: 0.0153 - f1_score: 0.9893 - val_loss: 0.0593 - val_f1_score: 0.9587\n",
      "Epoch 7/15\n",
      "19750/19750 [==============================] - 17s 841us/sample - loss: 0.0085 - f1_score: 0.9961 - val_loss: 0.0519 - val_f1_score: 0.9732\n",
      "Epoch 8/15\n",
      "19750/19750 [==============================] - 17s 840us/sample - loss: 0.0054 - f1_score: 0.9971 - val_loss: 0.0507 - val_f1_score: 0.9767\n",
      "Epoch 9/15\n",
      "19750/19750 [==============================] - 17s 861us/sample - loss: 0.0040 - f1_score: 0.9981 - val_loss: 0.0589 - val_f1_score: 0.9767\n",
      "Epoch 10/15\n",
      "19750/19750 [==============================] - 20s 1ms/sample - loss: 0.0046 - f1_score: 0.9970 - val_loss: 0.0669 - val_f1_score: 0.9689\n",
      "Epoch 11/15\n",
      "19750/19750 [==============================] - 17s 861us/sample - loss: 0.0035 - f1_score: 0.9980 - val_loss: 0.0545 - val_f1_score: 0.9725\n",
      "Epoch 12/15\n",
      "19750/19750 [==============================] - 17s 857us/sample - loss: 0.0025 - f1_score: 0.9984 - val_loss: 0.0485 - val_f1_score: 0.9795\n",
      "Epoch 13/15\n",
      "19750/19750 [==============================] - 17s 863us/sample - loss: 0.0013 - f1_score: 0.9993 - val_loss: 0.0486 - val_f1_score: 0.9810\n",
      "Epoch 14/15\n",
      "19750/19750 [==============================] - 17s 856us/sample - loss: 9.9711e-04 - f1_score: 0.9997 - val_loss: 0.0559 - val_f1_score: 0.9789\n",
      "Epoch 15/15\n",
      "19750/19750 [==============================] - 17s 855us/sample - loss: 0.0025 - f1_score: 0.9980 - val_loss: 0.0502 - val_f1_score: 0.9810\n"
     ]
    }
   ],
   "source": [
    "history = model.fit(X_train, y_train, epochs=15, batch_size=32, validation_split=0.2, callbacks=[model_check_point_cb])"
   ]
  },
  {
   "cell_type": "code",
   "execution_count": null,
   "metadata": {},
   "outputs": [],
   "source": []
  },
  {
   "cell_type": "code",
   "execution_count": 41,
   "metadata": {},
   "outputs": [],
   "source": [
    "from sklearn.metrics import classification_report\n",
    "import matplotlib.pyplot as plt\n",
    "import seaborn as sns\n",
    "%matplotlib inline"
   ]
  },
  {
   "cell_type": "code",
   "execution_count": null,
   "metadata": {},
   "outputs": [],
   "source": []
  },
  {
   "cell_type": "code",
   "execution_count": 42,
   "metadata": {},
   "outputs": [
    {
     "data": {
      "text/plain": [
       "<tensorflow.python.training.tracking.util.CheckpointLoadStatus at 0x1f2a8f6b2b0>"
      ]
     },
     "execution_count": 42,
     "metadata": {},
     "output_type": "execute_result"
    }
   ],
   "source": [
    "model.load_weights(checkpoint_path.format(epoch=13))"
   ]
  },
  {
   "cell_type": "code",
   "execution_count": null,
   "metadata": {},
   "outputs": [],
   "source": []
  },
  {
   "cell_type": "code",
   "execution_count": 43,
   "metadata": {},
   "outputs": [],
   "source": [
    "def evaluate(model):\n",
    "    Config.PLOT_PATH.mkdir(parents=True, exist_ok=True)\n",
    "    predictions = model.predict(X_test)\n",
    "    \n",
    "    y_pred = predictions.argmax(axis=1)\n",
    "    y_true = y_test.argmax(axis=1)\n",
    "    \n",
    "    report = classification_report(y_true, y_pred, output_dict=True)\n",
    "    df = pd.DataFrame(report).transpose()\n",
    "    \n",
    "    plt.title('Classification Report')\n",
    "    plt.legend([])\n",
    "    sns.heatmap(df, annot=True, vmin=0, vmax=1, linewidths=.5)\n",
    "    plt.savefig(str(Config.PLOT_HEAT_MAP_FILE))\n",
    "    plt.show()\n",
    "    plt.clf()"
   ]
  },
  {
   "cell_type": "code",
   "execution_count": 44,
   "metadata": {},
   "outputs": [
    {
     "data": {
      "image/png": "[encoded data removed]",
      "text/plain": [
       "<Figure size 432x288 with 2 Axes>"
      ]
     },
     "metadata": {
      "needs_background": "light"
     },
     "output_type": "display_data"
    },
    {
     "data": {
      "text/plain": [
       "<Figure size 432x288 with 0 Axes>"
      ]
     },
     "metadata": {},
     "output_type": "display_data"
    }
   ],
   "source": [
    "evaluate(model)"
   ]
  },
  {
   "cell_type": "code",
   "execution_count": null,
   "metadata": {},
   "outputs": [],
   "source": []
  },
  {
   "cell_type": "code",
   "execution_count": 91,
   "metadata": {},
   "outputs": [],
   "source": [
    "with open('example/happy.txt', 'r', encoding='utf-8') as file:\n",
    "    text = file.read()"
   ]
  },
  {
   "cell_type": "code",
   "execution_count": 92,
   "metadata": {},
   "outputs": [
    {
     "data": {
      "text/plain": [
       "'يا اطبطب وادلع يا يقولي أنا اتغيرت عليه أنا ازعل أولع ما هو كل همه إزاي أرضيه يا اطبطب وادلع يا يقولي أنا اتغيرت عليه أنا ازعل أولع ما هو كل همه إزاي أرضيه قولوله ده أنا برده ساعات بحالات مرة أزعل مرة أديله عيني مين فينا على حاله كل الأوقات ده تاعبني أوي طلع عيني قولوله ده أنا برده ساعات بحالات مرة أزعل مرة أديله عيني مين فينا على حاله كل الأوقات ده تاعبني أوي طلع عيني اطبطب وادلع يا يقولي أنا اتغيرت عليه أنا ازعل أولع ما هو كل همه إزاي أرضيه لو أزعل منه واقصر يقول بقصر في حقه وياخد جنب ولو أفهمه يقول بظلمه يفضل يحسسني بـ ١٠٠ ذنب لو أزعل منه واقصر يقول بقصر في حقه وياخد جنب ولو أفهمه يقول بظلمه يفضل يحسسني بـ ١٠٠ ذنب قولوله ده أنا برده ساعات بحالات مرة أزعل مرة أديله عيني مين فينا على حاله كل الأوقات ده تاعبني أوي طلع عيني قولوله ده أنا برده ساعات بحالات مرة أزعل مرة أديله عيني مين فينا على حاله كل الأوقات تاعبني أوي طلع عيني اطبطب وادلع يا يقولي أنا اتغيرت عليه أنا ازعل أولع ما هو كل همه إزاي أرضيه قال أنا بتغير ولا ده عقله صغير حير قلبي معاه وحكم القوي بموت فيه أوي وده اللي صبرني على هواه قال أنا بتغير ولا'"
      ]
     },
     "execution_count": 92,
     "metadata": {},
     "output_type": "execute_result"
    }
   ],
   "source": [
    "text"
   ]
  },
  {
   "cell_type": "code",
   "execution_count": 93,
   "metadata": {},
   "outputs": [],
   "source": [
    "def classify_emotion(text):\n",
    "    angry, happy, sad = model.predict([text])[0]\n",
    "    print(f'angry = {angry * 100}%')\n",
    "    print(f'happy = {happy * 100}%')\n",
    "    print(f'sad = {sad * 100}%')"
   ]
  },
  {
   "cell_type": "code",
   "execution_count": 94,
   "metadata": {},
   "outputs": [
    {
     "name": "stdout",
     "output_type": "stream",
     "text": [
      "angry = 0.00565340778848622%\n",
      "happy = 87.84323334693909%\n",
      "sad = 12.151113152503967%\n"
     ]
    }
   ],
   "source": [
    "classify_emotion(text)"
   ]
  },
  {
   "cell_type": "code",
   "execution_count": null,
   "metadata": {},
   "outputs": [],
   "source": []
  },
  {
   "cell_type": "code",
   "execution_count": null,
   "metadata": {},
   "outputs": [],
   "source": []
  },
  {
   "cell_type": "code",
   "execution_count": null,
   "metadata": {},
   "outputs": [],
   "source": []
  },
  {
   "cell_type": "code",
   "execution_count": null,
   "metadata": {},
   "outputs": [],
   "source": []
  },
  {
   "cell_type": "code",
   "execution_count": null,
   "metadata": {},
   "outputs": [],
   "source": []
  },
  {
   "cell_type": "code",
   "execution_count": null,
   "metadata": {},
   "outputs": [],
   "source": []
  },
  {
   "cell_type": "code",
   "execution_count": 145,
   "metadata": {},
   "outputs": [],
   "source": [
    "arousal_model = load_model(Config.AROUSAL_MODEL_PATH)"
   ]
  },
  {
   "cell_type": "code",
   "execution_count": 146,
   "metadata": {},
   "outputs": [
    {
     "name": "stdout",
     "output_type": "stream",
     "text": [
      "Model: \"model_1\"\n",
      "_________________________________________________________________\n",
      "Layer (type)                 Output Shape              Param #   \n",
      "=================================================================\n",
      "input_1 (InputLayer)         [(None, 6373)]            0         \n",
      "_________________________________________________________________\n",
      "dense_1 (Dense)              (None, 8)                 50992     \n",
      "_________________________________________________________________\n",
      "dense_2 (Dense)              (None, 4)                 36        \n",
      "_________________________________________________________________\n",
      "dense_3 (Dense)              (None, 1)                 5         \n",
      "=================================================================\n",
      "Total params: 51,033\n",
      "Trainable params: 51,033\n",
      "Non-trainable params: 0\n",
      "_________________________________________________________________\n"
     ]
    }
   ],
   "source": [
    "arousal_model.summary()"
   ]
  },
  {
   "cell_type": "code",
   "execution_count": 147,
   "metadata": {},
   "outputs": [],
   "source": [
    "valence_model = load_model(Config.VALENCE_MODEL_PATH)"
   ]
  },
  {
   "cell_type": "code",
   "execution_count": 148,
   "metadata": {},
   "outputs": [
    {
     "name": "stdout",
     "output_type": "stream",
     "text": [
      "Model: \"model_1\"\n",
      "_________________________________________________________________\n",
      "Layer (type)                 Output Shape              Param #   \n",
      "=================================================================\n",
      "input_1 (InputLayer)         [(None, 6373)]            0         \n",
      "_________________________________________________________________\n",
      "dense_1 (Dense)              (None, 8)                 50992     \n",
      "_________________________________________________________________\n",
      "dense_2 (Dense)              (None, 4)                 36        \n",
      "_________________________________________________________________\n",
      "dense_3 (Dense)              (None, 1)                 5         \n",
      "=================================================================\n",
      "Total params: 51,033\n",
      "Trainable params: 51,033\n",
      "Non-trainable params: 0\n",
      "_________________________________________________________________\n"
     ]
    }
   ],
   "source": [
    "valence_model.summary()"
   ]
  },
  {
   "cell_type": "code",
   "execution_count": null,
   "metadata": {},
   "outputs": [],
   "source": []
  },
  {
   "cell_type": "code",
   "execution_count": null,
   "metadata": {},
   "outputs": [],
   "source": []
  },
  {
   "cell_type": "code",
   "execution_count": 176,
   "metadata": {},
   "outputs": [],
   "source": [
    "arousal_model.layers[0]._name = \"arousal_input\"\n",
    "valence_model.layers[0]._name = \"valence_input\"\n",
    "model.layers[0]._name = \"lyrics_input\""
   ]
  },
  {
   "cell_type": "code",
   "execution_count": 184,
   "metadata": {},
   "outputs": [],
   "source": [
    "arousal_model.layers[1]._name = \"arousal_dense_1\"\n",
    "arousal_model.layers[2]._name = \"arousal_dense_2\""
   ]
  },
  {
   "cell_type": "code",
   "execution_count": 185,
   "metadata": {},
   "outputs": [],
   "source": [
    "valence_model.layers[1]._name = \"valence_dense_1\"\n",
    "valence_model.layers[2]._name = \"valence_dense_2\""
   ]
  },
  {
   "cell_type": "code",
   "execution_count": 186,
   "metadata": {},
   "outputs": [],
   "source": [
    "arousal_input = arousal_model.layers[0].input\n",
    "valence_input = valence_model.layers[0].input"
   ]
  },
  {
   "cell_type": "code",
   "execution_count": 187,
   "metadata": {},
   "outputs": [],
   "source": [
    "arousal_output = arousal_model.layers[-2].output\n",
    "valence_output = valence_model.layers[-2].output"
   ]
  },
  {
   "cell_type": "code",
   "execution_count": 188,
   "metadata": {},
   "outputs": [],
   "source": [
    "lyrics_input = model.layers[0].input"
   ]
  },
  {
   "cell_type": "code",
   "execution_count": 189,
   "metadata": {},
   "outputs": [],
   "source": [
    "lyrics_output = model.layers[-2].output"
   ]
  },
  {
   "cell_type": "code",
   "execution_count": 190,
   "metadata": {},
   "outputs": [],
   "source": [
    "concat_layer = tf.keras.layers.Concatenate(name=\"concat_layer\")([lyrics_output, arousal_output, valence_output])"
   ]
  },
  {
   "cell_type": "code",
   "execution_count": 191,
   "metadata": {},
   "outputs": [],
   "source": [
    "output = tf.keras.layers.Dense(class_num, activation='softmax', name=\"output_layer\")(concat_layer)"
   ]
  },
  {
   "cell_type": "code",
   "execution_count": 192,
   "metadata": {},
   "outputs": [],
   "source": [
    "final_model = tf.keras.Model(inputs=[lyrics_input, arousal_input, valence_input], outputs=output)"
   ]
  },
  {
   "cell_type": "code",
   "execution_count": null,
   "metadata": {},
   "outputs": [],
   "source": []
  },
  {
   "cell_type": "code",
   "execution_count": null,
   "metadata": {},
   "outputs": [],
   "source": []
  }
 ],
 "metadata": {
  "kernelspec": {
   "display_name": "Python 3",
   "language": "python",
   "name": "python3"
  },
  "language_info": {
   "codemirror_mode": {
    "name": "ipython",
    "version": 3
   },
   "file_extension": ".py",
   "mimetype": "text/x-python",
   "name": "python",
   "nbconvert_exporter": "python",
   "pygments_lexer": "ipython3",
   "version": "3.7.1"
  }
 },
 "nbformat": 4,
 "nbformat_minor": 4
}
