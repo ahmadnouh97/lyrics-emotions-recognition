{
 "cells": [
  {
   "cell_type": "code",
   "execution_count": 1,
   "metadata": {},
   "outputs": [],
   "source": [
    "import pandas as pd\n",
    "import re\n",
    "from pathlib import Path\n",
    "import pyarabic.araby as ar\n",
    "from tqdm.notebook import tqdm"
   ]
  },
  {
   "cell_type": "markdown",
   "metadata": {},
   "source": [
    "## Config"
   ]
  },
  {
   "cell_type": "code",
   "execution_count": 2,
   "metadata": {},
   "outputs": [],
   "source": [
    "class Config:\n",
    "    raw_data_file = 'tweets.csv'\n",
    "    processed_data_file = 'tweets.csv'\n",
    "    \n",
    "    RAW_DATA_PATH = Path('../../data/raw')\n",
    "    PROCESSED_DATA_PATH = Path('../../data/processed')\n",
    "    \n",
    "    RAW_DATA_FILE = RAW_DATA_PATH / raw_data_file\n",
    "    PROCESSED_DATA_FILE = PROCESSED_DATA_PATH / processed_data_file"
   ]
  },
  {
   "cell_type": "markdown",
   "metadata": {},
   "source": [
    "## Constants"
   ]
  },
  {
   "cell_type": "code",
   "execution_count": 3,
   "metadata": {},
   "outputs": [],
   "source": [
    "# match decoration inside words\n",
    "in_word_re = re.compile(r\"[\\u0600-\\u0603\\u0610-\\u061a\\u0640\\u064b-\\u065f\\u06fa-\\u06ff\\u06ea-\\u06ef\\u06df-\\u06e8\\u06d4\"\n",
    "                        r\"\\u06d5\\u06bf-\\u06cb]\")\n",
    "\n",
    "ARABIC_LETTERS = [\n",
    "    'ء', 'آ', 'أ', 'ؤ', 'إ', 'ئ', 'ا', 'ب', 'ة', 'ت', 'ث', 'ج', 'ح', 'خ', 'د', 'ذ', 'ر', 'ز', 'س',\n",
    "    'ش', 'ص', 'ض', 'ط', 'ظ', 'ع', 'غ', 'ف', 'ق', 'ك', 'ل', 'م', 'ن', 'ه', 'و', 'ى', 'ي', ' '\n",
    "]\n",
    "\n",
    "NON_ARABIC_LETTER = re.compile('[^' + ''.join(ARABIC_LETTERS + [' ']) + ']')\n"
   ]
  },
  {
   "cell_type": "markdown",
   "metadata": {},
   "source": [
    "## Read Data"
   ]
  },
  {
   "cell_type": "code",
   "execution_count": 4,
   "metadata": {},
   "outputs": [],
   "source": [
    "raw_data = pd.read_csv(str(Config.RAW_DATA_FILE), sep=',', names=['ID','Tweet','Class'])"
   ]
  },
  {
   "cell_type": "code",
   "execution_count": 5,
   "metadata": {},
   "outputs": [
    {
     "data": {
      "text/html": [
       "<div>\n",
       "<style scoped>\n",
       "    .dataframe tbody tr th:only-of-type {\n",
       "        vertical-align: middle;\n",
       "    }\n",
       "\n",
       "    .dataframe tbody tr th {\n",
       "        vertical-align: top;\n",
       "    }\n",
       "\n",
       "    .dataframe thead th {\n",
       "        text-align: right;\n",
       "    }\n",
       "</style>\n",
       "<table border=\"1\" class=\"dataframe\">\n",
       "  <thead>\n",
       "    <tr style=\"text-align: right;\">\n",
       "      <th></th>\n",
       "      <th>ID</th>\n",
       "      <th>Tweet</th>\n",
       "      <th>Class</th>\n",
       "    </tr>\n",
       "  </thead>\n",
       "  <tbody>\n",
       "    <tr>\n",
       "      <th>0</th>\n",
       "      <td>295820374774513667</td>\n",
       "      <td>رودجرز\" انا مستاء  من لاعبينا الشباب. حولنا من...</td>\n",
       "      <td>anger</td>\n",
       "    </tr>\n",
       "    <tr>\n",
       "      <th>1</th>\n",
       "      <td>353619287652581376</td>\n",
       "      <td>‏من شفت انا عيونه اعلنت انا جنوني ♥</td>\n",
       "      <td>anger</td>\n",
       "    </tr>\n",
       "    <tr>\n",
       "      <th>2</th>\n",
       "      <td>888346524714979329</td>\n",
       "      <td>أتفق انا عصِبي وقاسي وعنيد ومُتناقض ومُزاجي وك...</td>\n",
       "      <td>anger</td>\n",
       "    </tr>\n",
       "    <tr>\n",
       "      <th>3</th>\n",
       "      <td>870974517983752193</td>\n",
       "      <td>@AWADBADINAHAS على فكرة انا مستاء جداً من تجرب...</td>\n",
       "      <td>anger</td>\n",
       "    </tr>\n",
       "    <tr>\n",
       "      <th>4</th>\n",
       "      <td>44022</td>\n",
       "      <td>Power outage im scared</td>\n",
       "      <td>anger</td>\n",
       "    </tr>\n",
       "  </tbody>\n",
       "</table>\n",
       "</div>"
      ],
      "text/plain": [
       "                   ID                                              Tweet  \\\n",
       "0  295820374774513667  رودجرز\" انا مستاء  من لاعبينا الشباب. حولنا من...   \n",
       "1  353619287652581376                ‏من شفت انا عيونه اعلنت انا جنوني ♥   \n",
       "2  888346524714979329  أتفق انا عصِبي وقاسي وعنيد ومُتناقض ومُزاجي وك...   \n",
       "3  870974517983752193  @AWADBADINAHAS على فكرة انا مستاء جداً من تجرب...   \n",
       "4               44022                            Power outage im scared    \n",
       "\n",
       "   Class  \n",
       "0  anger  \n",
       "1  anger  \n",
       "2  anger  \n",
       "3  anger  \n",
       "4  anger  "
      ]
     },
     "execution_count": 5,
     "metadata": {},
     "output_type": "execute_result"
    }
   ],
   "source": [
    "raw_data.head()"
   ]
  },
  {
   "cell_type": "markdown",
   "metadata": {},
   "source": [
    "## Process Data"
   ]
  },
  {
   "cell_type": "code",
   "execution_count": null,
   "metadata": {},
   "outputs": [],
   "source": []
  },
  {
   "cell_type": "code",
   "execution_count": 6,
   "metadata": {},
   "outputs": [],
   "source": [
    "class DataPreprocessor:\n",
    "\n",
    "    @staticmethod\n",
    "    def process_text(text):\n",
    "        # trim text\n",
    "        text = text.strip()\n",
    "        # strip decoration inside words\n",
    "        text = in_word_re.sub('', text)\n",
    "        # strip shadda\n",
    "        text = ar.strip_shadda(text)\n",
    "        # strip tashkeel\n",
    "        text = ar.strip_tashkeel(text)\n",
    "        # strip tatweel\n",
    "        text = ar.strip_tatweel(text)\n",
    "        # strip non arabic letter\n",
    "        text = re.sub(NON_ARABIC_LETTER, ' ', text)\n",
    "        # strip multiple spaces with single one\n",
    "        text = ' '.join(text.split())\n",
    "        return text\n"
   ]
  },
  {
   "cell_type": "code",
   "execution_count": 7,
   "metadata": {},
   "outputs": [],
   "source": [
    "processed_data = raw_data.copy()"
   ]
  },
  {
   "cell_type": "markdown",
   "metadata": {},
   "source": [
    "**Drop NaN rows**"
   ]
  },
  {
   "cell_type": "code",
   "execution_count": 8,
   "metadata": {},
   "outputs": [
    {
     "name": "stdout",
     "output_type": "stream",
     "text": [
      "size before drop nan rows: 94832\n",
      "size after drop nan rows: 94827\n"
     ]
    }
   ],
   "source": [
    "print(f'size before drop nan rows: {len(processed_data)}')\n",
    "processed_data = processed_data.dropna().reset_index(drop=True)\n",
    "print(f'size after drop nan rows: {len(processed_data)}')"
   ]
  },
  {
   "cell_type": "markdown",
   "metadata": {},
   "source": [
    "**Clean Tweets**"
   ]
  },
  {
   "cell_type": "code",
   "execution_count": 9,
   "metadata": {},
   "outputs": [],
   "source": [
    "processed_data['Tweet'] = processed_data['Tweet'].apply(lambda tweet: DataPreprocessor.process_text(tweet))"
   ]
  },
  {
   "cell_type": "markdown",
   "metadata": {},
   "source": [
    "**Drop Empty Tweets**"
   ]
  },
  {
   "cell_type": "code",
   "execution_count": 10,
   "metadata": {},
   "outputs": [
    {
     "name": "stdout",
     "output_type": "stream",
     "text": [
      "size before drop empty rows: 94827\n",
      "size after drop empty rows: 80668\n"
     ]
    }
   ],
   "source": [
    "print(f'size before drop empty rows: {len(processed_data)}')\n",
    "indexes = processed_data[processed_data['Tweet'].apply(lambda tweet: len(str(tweet).strip()) == 0)].index\n",
    "processed_data = processed_data.drop(indexes).reset_index(drop=True)\n",
    "print(f'size after drop empty rows: {len(processed_data)}')"
   ]
  },
  {
   "cell_type": "code",
   "execution_count": 11,
   "metadata": {},
   "outputs": [
    {
     "data": {
      "text/html": [
       "<div>\n",
       "<style scoped>\n",
       "    .dataframe tbody tr th:only-of-type {\n",
       "        vertical-align: middle;\n",
       "    }\n",
       "\n",
       "    .dataframe tbody tr th {\n",
       "        vertical-align: top;\n",
       "    }\n",
       "\n",
       "    .dataframe thead th {\n",
       "        text-align: right;\n",
       "    }\n",
       "</style>\n",
       "<table border=\"1\" class=\"dataframe\">\n",
       "  <thead>\n",
       "    <tr style=\"text-align: right;\">\n",
       "      <th></th>\n",
       "      <th>ID</th>\n",
       "      <th>Tweet</th>\n",
       "      <th>Class</th>\n",
       "    </tr>\n",
       "  </thead>\n",
       "  <tbody>\n",
       "    <tr>\n",
       "      <th>0</th>\n",
       "      <td>295820374774513667</td>\n",
       "      <td>رودجرز انا مستاء من لاعبينا الشباب حولنا منحهم...</td>\n",
       "      <td>anger</td>\n",
       "    </tr>\n",
       "    <tr>\n",
       "      <th>1</th>\n",
       "      <td>353619287652581376</td>\n",
       "      <td>من شفت انا عيونه اعلنت انا جنوني</td>\n",
       "      <td>anger</td>\n",
       "    </tr>\n",
       "    <tr>\n",
       "      <th>2</th>\n",
       "      <td>888346524714979329</td>\n",
       "      <td>أتفق انا عصبي وقاسي وعنيد ومتناقض ومزاجي وكتوم...</td>\n",
       "      <td>anger</td>\n",
       "    </tr>\n",
       "    <tr>\n",
       "      <th>3</th>\n",
       "      <td>870974517983752193</td>\n",
       "      <td>على فكرة انا مستاء جدا من تجربتي في محلكم في ا...</td>\n",
       "      <td>anger</td>\n",
       "    </tr>\n",
       "    <tr>\n",
       "      <th>4</th>\n",
       "      <td>886636321342619653</td>\n",
       "      <td>ع قد ما انا عصبي ع قد ما ابسط كلمه حلوه هتنسين...</td>\n",
       "      <td>anger</td>\n",
       "    </tr>\n",
       "  </tbody>\n",
       "</table>\n",
       "</div>"
      ],
      "text/plain": [
       "                   ID                                              Tweet  \\\n",
       "0  295820374774513667  رودجرز انا مستاء من لاعبينا الشباب حولنا منحهم...   \n",
       "1  353619287652581376                   من شفت انا عيونه اعلنت انا جنوني   \n",
       "2  888346524714979329  أتفق انا عصبي وقاسي وعنيد ومتناقض ومزاجي وكتوم...   \n",
       "3  870974517983752193  على فكرة انا مستاء جدا من تجربتي في محلكم في ا...   \n",
       "4  886636321342619653  ع قد ما انا عصبي ع قد ما ابسط كلمه حلوه هتنسين...   \n",
       "\n",
       "   Class  \n",
       "0  anger  \n",
       "1  anger  \n",
       "2  anger  \n",
       "3  anger  \n",
       "4  anger  "
      ]
     },
     "execution_count": 11,
     "metadata": {},
     "output_type": "execute_result"
    }
   ],
   "source": [
    "processed_data.head()"
   ]
  },
  {
   "cell_type": "code",
   "execution_count": 12,
   "metadata": {},
   "outputs": [
    {
     "data": {
      "text/plain": [
       "happiness       22788\n",
       "trust           13403\n",
       "sadness         12906\n",
       "anticipation    11785\n",
       "fear            11182\n",
       "surprise         6679\n",
       "anger            1154\n",
       "disgust           771\n",
       "Name: Class, dtype: int64"
      ]
     },
     "execution_count": 12,
     "metadata": {},
     "output_type": "execute_result"
    }
   ],
   "source": [
    "processed_data['Class'].value_counts()"
   ]
  },
  {
   "cell_type": "code",
   "execution_count": 13,
   "metadata": {},
   "outputs": [],
   "source": [
    "processed_data.to_csv(Config.PROCESSED_DATA_FILE, index=False)"
   ]
  },
  {
   "cell_type": "code",
   "execution_count": null,
   "metadata": {},
   "outputs": [],
   "source": []
  }
 ],
 "metadata": {
  "kernelspec": {
   "display_name": "Python 3",
   "language": "python",
   "name": "python3"
  },
  "language_info": {
   "codemirror_mode": {
    "name": "ipython",
    "version": 3
   },
   "file_extension": ".py",
   "mimetype": "text/x-python",
   "name": "python",
   "nbconvert_exporter": "python",
   "pygments_lexer": "ipython3",
   "version": "3.7.1"
  }
 },
 "nbformat": 4,
 "nbformat_minor": 4
}
