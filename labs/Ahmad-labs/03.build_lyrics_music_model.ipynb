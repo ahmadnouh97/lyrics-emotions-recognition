{
 "cells": [
  {
   "cell_type": "code",
   "execution_count": 1,
   "metadata": {},
   "outputs": [],
   "source": [
    "import pandas as pd\n",
    "import re\n",
    "from pathlib import Path\n",
    "import pyarabic.araby as ar\n",
    "from tqdm.notebook import tqdm\n",
    "from sklearn.utils import shuffle\n",
    "import tensorflow as tf\n",
    "import tensorflow_addons as tfa\n",
    "from sklearn.preprocessing import LabelEncoder\n",
    "from sklearn.metrics import classification_report\n",
    "import matplotlib.pyplot as plt\n",
    "import seaborn as sns\n",
    "%matplotlib inline"
   ]
  },
  {
   "cell_type": "code",
   "execution_count": 2,
   "metadata": {},
   "outputs": [],
   "source": [
    "import pickle as pkl"
   ]
  },
  {
   "cell_type": "code",
   "execution_count": 3,
   "metadata": {},
   "outputs": [],
   "source": [
    "from tensorflow.keras.models import load_model"
   ]
  },
  {
   "cell_type": "code",
   "execution_count": 4,
   "metadata": {},
   "outputs": [],
   "source": [
    "class Config:\n",
    "    raw_data_file = 'tweets.csv'\n",
    "    processed_data_file = 'tweets.csv'\n",
    "    \n",
    "    RAW_DATA_PATH = Path('../../data/raw')\n",
    "    PROCESSED_DATA_PATH = Path('../../data/processed')\n",
    "    \n",
    "    RAW_DATA_FILE = RAW_DATA_PATH / raw_data_file\n",
    "    PROCESSED_DATA_FILE = PROCESSED_DATA_PATH / processed_data_file\n",
    "    \n",
    "    TEXT_VECTORIZER_PATH = Path('text_vectorizer.pkl')\n",
    "    \n",
    "    LYRICS_MODEL_PATH = Path('../../model/lyrics')\n",
    "    AROUSAL_MODEL_PATH = Path('../../model/music/arousal_model.h5')\n",
    "    VALENCE_MODEL_PATH = Path('../../model/music/valence_model.h5')\n",
    "    \n",
    "    PLOT_PATH = Path('../../plots')\n",
    "    PLOT_HEAT_MAP_FILE = PLOT_PATH / Path('heatmap.png')"
   ]
  },
  {
   "cell_type": "code",
   "execution_count": null,
   "metadata": {},
   "outputs": [],
   "source": []
  },
  {
   "cell_type": "code",
   "execution_count": 5,
   "metadata": {},
   "outputs": [],
   "source": [
    "arousal_model = load_model(Config.AROUSAL_MODEL_PATH)"
   ]
  },
  {
   "cell_type": "code",
   "execution_count": 6,
   "metadata": {},
   "outputs": [
    {
     "name": "stdout",
     "output_type": "stream",
     "text": [
      "Model: \"model_1\"\n",
      "_________________________________________________________________\n",
      "Layer (type)                 Output Shape              Param #   \n",
      "=================================================================\n",
      "input_1 (InputLayer)         [(None, 6373)]            0         \n",
      "_________________________________________________________________\n",
      "dense_1 (Dense)              (None, 8)                 50992     \n",
      "_________________________________________________________________\n",
      "dense_2 (Dense)              (None, 4)                 36        \n",
      "_________________________________________________________________\n",
      "dense_3 (Dense)              (None, 1)                 5         \n",
      "=================================================================\n",
      "Total params: 51,033\n",
      "Trainable params: 51,033\n",
      "Non-trainable params: 0\n",
      "_________________________________________________________________\n"
     ]
    }
   ],
   "source": [
    "arousal_model.summary()"
   ]
  },
  {
   "cell_type": "code",
   "execution_count": 7,
   "metadata": {},
   "outputs": [],
   "source": [
    "valence_model = load_model(Config.VALENCE_MODEL_PATH)"
   ]
  },
  {
   "cell_type": "code",
   "execution_count": 8,
   "metadata": {},
   "outputs": [
    {
     "name": "stdout",
     "output_type": "stream",
     "text": [
      "Model: \"model_1\"\n",
      "_________________________________________________________________\n",
      "Layer (type)                 Output Shape              Param #   \n",
      "=================================================================\n",
      "input_1 (InputLayer)         [(None, 6373)]            0         \n",
      "_________________________________________________________________\n",
      "dense_1 (Dense)              (None, 8)                 50992     \n",
      "_________________________________________________________________\n",
      "dense_2 (Dense)              (None, 4)                 36        \n",
      "_________________________________________________________________\n",
      "dense_3 (Dense)              (None, 1)                 5         \n",
      "=================================================================\n",
      "Total params: 51,033\n",
      "Trainable params: 51,033\n",
      "Non-trainable params: 0\n",
      "_________________________________________________________________\n"
     ]
    }
   ],
   "source": [
    "valence_model.summary()"
   ]
  },
  {
   "cell_type": "code",
   "execution_count": 9,
   "metadata": {},
   "outputs": [],
   "source": [
    "# construct final model"
   ]
  },
  {
   "cell_type": "code",
   "execution_count": 10,
   "metadata": {},
   "outputs": [],
   "source": [
    "class_num = 3"
   ]
  },
  {
   "cell_type": "code",
   "execution_count": 11,
   "metadata": {},
   "outputs": [],
   "source": [
    "arousal_input = arousal_model.layers[0].input\n",
    "valence_input = valence_model.layers[0].input"
   ]
  },
  {
   "cell_type": "code",
   "execution_count": 12,
   "metadata": {},
   "outputs": [],
   "source": [
    "arousal_output = arousal_model.layers[-2].output\n",
    "valence_output = valence_model.layers[-2].output"
   ]
  },
  {
   "cell_type": "code",
   "execution_count": null,
   "metadata": {},
   "outputs": [],
   "source": []
  },
  {
   "cell_type": "code",
   "execution_count": 13,
   "metadata": {},
   "outputs": [],
   "source": [
    "with open(str(Config.TEXT_VECTORIZER_PATH), 'rb') as file:\n",
    "    from_disk = pkl.load(file)\n",
    "    \n",
    "    encoder = tf.keras.layers.experimental.preprocessing.TextVectorization.from_config(from_disk['config'])\n",
    "    encoder.set_weights(from_disk['weights'])"
   ]
  },
  {
   "cell_type": "code",
   "execution_count": 14,
   "metadata": {},
   "outputs": [],
   "source": [
    "def create_lyrics_model(class_num, encoder, vocab_size):\n",
    "    \n",
    "    model = tf.keras.Sequential()\n",
    "    \n",
    "    model.add(encoder)\n",
    "    \n",
    "    model.add(\n",
    "        tf.keras.layers.Embedding(\n",
    "        input_dim=vocab_size+1,\n",
    "        output_dim=64,\n",
    "        # Use masking to handle the variable sequence lengths\n",
    "        mask_zero=True)\n",
    "    )\n",
    "    \n",
    "    model.add(\n",
    "        tf.keras.layers.Bidirectional(tf.keras.layers.LSTM(64))\n",
    "    )\n",
    "    \n",
    "    model.add(\n",
    "        tf.keras.layers.Dense(64, activation='relu')\n",
    "    )\n",
    "    \n",
    "    model.add(\n",
    "        tf.keras.layers.Dense(class_num)\n",
    "    )\n",
    "    \n",
    "    model.compile(\n",
    "        loss=tf.keras.losses.CategoricalCrossentropy(from_logits=True),\n",
    "        optimizer=tf.keras.optimizers.Adam(1e-4),\n",
    "        metrics=[tfa.metrics.F1Score(class_num)]\n",
    "    )\n",
    "    \n",
    "    \n",
    "    model.load_weights(str(Config.LYRICS_MODEL_PATH / 'lyrics_model'))\n",
    "    \n",
    "    return model"
   ]
  },
  {
   "cell_type": "code",
   "execution_count": 15,
   "metadata": {},
   "outputs": [],
   "source": [
    "lyrics_model = create_lyrics_model(class_num, encoder, vocab_size=10000)"
   ]
  },
  {
   "cell_type": "code",
   "execution_count": 16,
   "metadata": {},
   "outputs": [],
   "source": [
    "def evaluate(model):\n",
    "    Config.PLOT_PATH.mkdir(parents=True, exist_ok=True)\n",
    "    predictions = model.predict(X_test)\n",
    "    \n",
    "    y_pred = predictions.argmax(axis=1)\n",
    "    y_true = y_test.argmax(axis=1)\n",
    "    \n",
    "    report = classification_report(y_true, y_pred, output_dict=True)\n",
    "    df = pd.DataFrame(report).transpose()\n",
    "    \n",
    "    plt.title('Classification Report')\n",
    "    plt.legend([])\n",
    "    sns.heatmap(df, annot=True, vmin=0, vmax=1, linewidths=.5)\n",
    "    plt.savefig(str(Config.PLOT_HEAT_MAP_FILE))\n",
    "    plt.show()\n",
    "    plt.clf()"
   ]
  }
 ],
 "metadata": {
  "kernelspec": {
   "display_name": "Python 3",
   "language": "python",
   "name": "python3"
  },
  "language_info": {
   "codemirror_mode": {
    "name": "ipython",
    "version": 3
   },
   "file_extension": ".py",
   "mimetype": "text/x-python",
   "name": "python",
   "nbconvert_exporter": "python",
   "pygments_lexer": "ipython3",
   "version": "3.7.1"
  }
 },
 "nbformat": 4,
 "nbformat_minor": 4
}
